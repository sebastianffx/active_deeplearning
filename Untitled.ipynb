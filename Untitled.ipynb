{
 "cells": [
  {
   "cell_type": "code",
   "execution_count": 1,
   "metadata": {
    "collapsed": false
   },
   "outputs": [
    {
     "name": "stdout",
     "output_type": "stream",
     "text": [
      "#finetunning_birds.py#               small_model_tensorflow.ipynb\r\n",
      "Untitled.ipynb                       solver_ft.prototxt\r\n",
      "bvlc_alexnet.caffemodel              splitSamples.txt\r\n",
      "deploy.prototxt                      synset_words.txt\r\n",
      "feats_alexnet_birdsDS.pkl            test_birds.txt\r\n",
      "finetunning_birds.py                 train_birds.txt\r\n",
      "finetunning_birds.py~                train_loss_ft_birds.txt\r\n",
      "ft_train_val.prototxt                utils_birds.py\r\n",
      "ft_train_val.prototxt~               utils_birds.pyc\r\n",
      "ml-assign4-fhdiaze-ojperdomoc.ipynb  utils_birds.py~\r\n",
      "\u001b[0m\u001b[0;35mmodels\u001b[0m                               val_birds.txt\r\n"
     ]
    }
   ],
   "source": [
    "ls"
   ]
  },
  {
   "cell_type": "code",
   "execution_count": null,
   "metadata": {
    "collapsed": true
   },
   "outputs": [],
   "source": []
  }
 ],
 "metadata": {
  "kernelspec": {
   "display_name": "Bash",
   "language": "bash",
   "name": "bash"
  },
  "language_info": {
   "codemirror_mode": "shell",
   "file_extension": ".sh",
   "mimetype": "text/x-sh",
   "name": "bash"
  }
 },
 "nbformat": 4,
 "nbformat_minor": 0
}
