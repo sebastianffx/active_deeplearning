{
 "cells": [
  {
   "cell_type": "code",
   "execution_count": 229,
   "metadata": {
    "collapsed": false
   },
   "outputs": [
    {
     "name": "stdout",
     "output_type": "stream",
     "text": [
      "/home/jsotaloram/active_learning/exp_birds\n"
     ]
    }
   ],
   "source": [
    "cd /home/jsotaloram/active_learning/exp_birds/"
   ]
  },
  {
   "cell_type": "code",
   "execution_count": 230,
   "metadata": {
    "collapsed": false
   },
   "outputs": [],
   "source": [
    "import caffe as cf\n",
    "import os\n",
    "import sys\n",
    "from utils_birds import *\n",
    "sys.path.insert(0, '/home/jsotaloram/software/caffe/python')\n",
    "import numpy as np\n",
    "import random \n",
    "from pylab import *\n",
    "%matplotlib inline  "
   ]
  },
  {
   "cell_type": "code",
   "execution_count": 231,
   "metadata": {
    "collapsed": true
   },
   "outputs": [],
   "source": [
    "#https://github.com/BVLC/caffe/blob/master/examples/03-fine-tuning.ipynb                                                                               \n",
    "dataset_path= '/data1/birds/'\n",
    "birdsFolder = \"/data1/birds\"\n",
    "birdsLabels = os.listdir(birdsFolder)\n",
    "dict_cats = {0:'wood_duck/wod', 1:'egret/egr',2:'owl/owl', 3:'toucan/tou',4:'mandarin/man',5:'puffin/puf'}\n",
    "#dict_cats = {(k,v) for (k,v) in [(birdsLabels[x],x) for x in range(len(birdsLabels))]}               \n"
   ]
  },
  {
   "cell_type": "code",
   "execution_count": 233,
   "metadata": {
    "collapsed": true
   },
   "outputs": [],
   "source": [
    "cf.set_device(0)\n",
    "cf.set_mode_gpu()"
   ]
  },
  {
   "cell_type": "code",
   "execution_count": 234,
   "metadata": {
    "collapsed": true
   },
   "outputs": [],
   "source": [
    "modelAlexNet = \"bvlc_alexnet.caffemodel\" #assuming is in the same folder                                                                               \n",
    "deployProtoTxt = \"deploy.prototxt\"\n",
    "imageNetLabels = np.loadtxt(\"synset_words.txt\", str, delimiter='\\t')\n",
    "splitSamples = np.loadtxt(\"splitSamples.txt\", str, delimiter=';')"
   ]
  },
  {
   "cell_type": "code",
   "execution_count": 6,
   "metadata": {
    "collapsed": true
   },
   "outputs": [],
   "source": [
    "niter = 200\n",
    "# losses will also be stored in the log                                                                                                                \n",
    "train_loss = np.zeros(niter)\n",
    "scratch_train_loss = np.zeros(niter)\n",
    "# We create a solver that fine-tunes from a previously trained network.                                                                                \n",
    "solver = cf.SGDSolver('/home/jsotaloram/active_learning/exp_birds/solver_ft.prototxt')\n",
    "solver.net.copy_from('bvlc_alexnet.caffemodel')\n"
   ]
  },
  {
   "cell_type": "code",
   "execution_count": 9,
   "metadata": {
    "collapsed": false
   },
   "outputs": [
    {
     "name": "stdout",
     "output_type": "stream",
     "text": [
      "iter 0, finetune_loss=0.000018\n",
      "iter 10, finetune_loss=0.000007\n",
      "iter 20, finetune_loss=0.000001\n",
      "iter 30, finetune_loss=0.000029\n",
      "iter 40, finetune_loss=0.000006\n",
      "iter 50, finetune_loss=0.000020\n",
      "iter 60, finetune_loss=0.000002\n",
      "iter 70, finetune_loss=0.000001\n",
      "iter 80, finetune_loss=0.000013\n",
      "iter 90, finetune_loss=0.000000\n",
      "iter 100, finetune_loss=0.000194\n",
      "iter 110, finetune_loss=0.000000\n",
      "iter 120, finetune_loss=0.000000\n",
      "iter 130, finetune_loss=0.000007\n",
      "iter 140, finetune_loss=0.000000\n",
      "iter 150, finetune_loss=0.000001\n",
      "iter 160, finetune_loss=0.000001\n",
      "iter 170, finetune_loss=0.000197\n",
      "iter 180, finetune_loss=0.000002\n",
      "iter 190, finetune_loss=0.000009\n",
      "done finnetunning!\n"
     ]
    }
   ],
   "source": [
    "for it in range(niter):\n",
    "    solver.step(1)  # SGD by Caffe                                                                                                                     \n",
    "    #scratch_solver.step(1)                                                                                                                            \n",
    "    # store the train loss                                                                                                                             \n",
    "    train_loss[it] = solver.net.blobs['loss'].data\n",
    "    #scratch_train_loss[it] = scratch_solver.net.blobs['loss'].data                                                                                    \n",
    "    if it % 10 == 0:\n",
    "        print 'iter %d, finetune_loss=%f' % (it, train_loss[it])\n",
    "print 'done finnetunning!'\n"
   ]
  },
  {
   "cell_type": "code",
   "execution_count": 11,
   "metadata": {
    "collapsed": true
   },
   "outputs": [],
   "source": [
    "#Let's compute the performance measures, first partitionate as required\n",
    "samples = loadSamples()\n",
    "woodSamples = np.array(splitSamples[1:, 0], dtype=int) -1\n",
    "egretSamples = 100*1 + np.array(splitSamples[1:, 1], dtype=int) - 1\n",
    "owlSamples = 100*2 + np.array(splitSamples[1:, 2], dtype=int) - 1\n",
    "toucanSamples = 100*3 + np.array(splitSamples[1:, 3], dtype=int) - 1\n",
    "puffinSamples = 100*4 + np.array(splitSamples[1:, 4], dtype=int) - 1\n",
    "mandarinSamples = 100*5 + np.array(splitSamples[1:, 5], dtype=int) - 1\n",
    "trainIdx = np.concatenate((\n",
    "        woodSamples[0:20],\n",
    "        egretSamples[0:20],\n",
    "        owlSamples[0:20],\n",
    "        toucanSamples[0:20],\n",
    "        puffinSamples[0:20],\n",
    "        mandarinSamples[0:20],\n",
    "        ))\n",
    "\n",
    "crossIdx = np.concatenate((\n",
    "        woodSamples[20:50],\n",
    "        egretSamples[20:50],\n",
    "        owlSamples[20:50],\n",
    "        toucanSamples[20:50],\n",
    "        puffinSamples[20:50],\n",
    "        mandarinSamples[20:50],\n",
    "        ))\n",
    "\n",
    "testIdx = np.concatenate((\n",
    "        woodSamples[50:100],\n",
    "        egretSamples[50:100],\n",
    "        owlSamples[50:100],\n",
    "        toucanSamples[50:100],\n",
    "        puffinSamples[50:100],\n",
    "        mandarinSamples[50:100],\n",
    "        ))"
   ]
  },
  {
   "cell_type": "code",
   "execution_count": 235,
   "metadata": {
    "collapsed": false,
    "scrolled": true
   },
   "outputs": [],
   "source": [
    "samples\n",
    "dict_cats_nameOnly = {0:'wood_duck', 1:'egret',2:'owl', 3:'toucan',4:'mandarin',5:'puffin'}\n",
    "\n",
    "inv_bird_map_nameOnly = {v: k for k, v in dict_cats_nameOnly.items()}\n",
    "\n",
    "all_samples_cats = []\n",
    "for sample in samples:\n",
    "    all_samples_cats.append(inv_bird_map_nameOnly[sample[0]])\n",
    "#all_samples_cats"
   ]
  },
  {
   "cell_type": "code",
   "execution_count": 236,
   "metadata": {
    "collapsed": false
   },
   "outputs": [
    {
     "data": {
      "text/plain": [
       "300"
      ]
     },
     "execution_count": 236,
     "metadata": {},
     "output_type": "execute_result"
    }
   ],
   "source": [
    "import utils_birds\n",
    "reload(utils_birds)\n",
    "\n",
    "num_lbls_test = [all_samples_cats[i] for i in testIdx]\n",
    "len(num_lbls_test)"
   ]
  },
  {
   "cell_type": "code",
   "execution_count": 237,
   "metadata": {
    "collapsed": true
   },
   "outputs": [
    {
     "ename": "ValueError",
     "evalue": "Mean channels incompatible with input.",
     "output_type": "error",
     "traceback": [
      "\u001b[1;31m---------------------------------------------------------------------------\u001b[0m",
      "\u001b[1;31mValueError\u001b[0m                                Traceback (most recent call last)",
      "\u001b[1;32m<ipython-input-237-9a2429a2769a>\u001b[0m in \u001b[0;36m<module>\u001b[1;34m()\u001b[0m\n\u001b[0;32m      1\u001b[0m \u001b[1;31m#Now let's make a forward on the net that we have just finetunned:\u001b[0m\u001b[1;33m\u001b[0m\u001b[1;33m\u001b[0m\u001b[0m\n\u001b[1;32m----> 2\u001b[1;33m \u001b[0mYPredAlexNet\u001b[0m\u001b[1;33m,\u001b[0m \u001b[0mfeats_fc6\u001b[0m\u001b[1;33m,\u001b[0m \u001b[0mfeats_fc7\u001b[0m \u001b[1;33m=\u001b[0m \u001b[0mpredict\u001b[0m\u001b[1;33m(\u001b[0m\u001b[0msolver\u001b[0m\u001b[1;33m.\u001b[0m\u001b[0mnet\u001b[0m\u001b[1;33m,\u001b[0m \u001b[0msamples\u001b[0m\u001b[1;33m[\u001b[0m\u001b[0mtestIdx\u001b[0m\u001b[1;33m]\u001b[0m\u001b[1;33m)\u001b[0m\u001b[1;33m\u001b[0m\u001b[0m\n\u001b[0m\u001b[0;32m      3\u001b[0m \u001b[0myTest\u001b[0m \u001b[1;33m=\u001b[0m \u001b[0msamples\u001b[0m\u001b[1;33m[\u001b[0m\u001b[0mtestIdx\u001b[0m\u001b[1;33m,\u001b[0m \u001b[1;36m0\u001b[0m\u001b[1;33m]\u001b[0m\u001b[1;33m\u001b[0m\u001b[0m\n",
      "\u001b[1;32m/home/jsotaloram/active_learning/exp_birds/utils_birds.py\u001b[0m in \u001b[0;36mpredict\u001b[1;34m(net, samples)\u001b[0m\n\u001b[0;32m     53\u001b[0m     \u001b[0moutputLfc7\u001b[0m \u001b[1;33m=\u001b[0m \u001b[0mnp\u001b[0m\u001b[1;33m.\u001b[0m\u001b[0mempty\u001b[0m\u001b[1;33m(\u001b[0m\u001b[1;33m(\u001b[0m\u001b[1;36m0\u001b[0m\u001b[1;33m,\u001b[0m\u001b[1;36m4096\u001b[0m\u001b[1;33m)\u001b[0m\u001b[1;33m)\u001b[0m\u001b[1;33m\u001b[0m\u001b[0m\n\u001b[0;32m     54\u001b[0m     \u001b[0mtransformer\u001b[0m \u001b[1;33m=\u001b[0m \u001b[0mcf\u001b[0m\u001b[1;33m.\u001b[0m\u001b[0mio\u001b[0m\u001b[1;33m.\u001b[0m\u001b[0mTransformer\u001b[0m\u001b[1;33m(\u001b[0m\u001b[1;33m{\u001b[0m\u001b[1;34m'data'\u001b[0m\u001b[1;33m:\u001b[0m \u001b[0mnet\u001b[0m\u001b[1;33m.\u001b[0m\u001b[0mblobs\u001b[0m\u001b[1;33m[\u001b[0m\u001b[1;34m'data'\u001b[0m\u001b[1;33m]\u001b[0m\u001b[1;33m.\u001b[0m\u001b[0mdata\u001b[0m\u001b[1;33m.\u001b[0m\u001b[0mshape\u001b[0m\u001b[1;33m}\u001b[0m\u001b[1;33m)\u001b[0m\u001b[1;33m\u001b[0m\u001b[0m\n\u001b[1;32m---> 55\u001b[1;33m     \u001b[0mtransformer\u001b[0m\u001b[1;33m.\u001b[0m\u001b[0mset_mean\u001b[0m\u001b[1;33m(\u001b[0m\u001b[1;34m'data'\u001b[0m\u001b[1;33m,\u001b[0m \u001b[0mnp\u001b[0m\u001b[1;33m.\u001b[0m\u001b[0mload\u001b[0m\u001b[1;33m(\u001b[0m\u001b[1;34m'/opt/caffe/python/caffe/imagenet/ilsvrc_2012_mean.npy'\u001b[0m\u001b[1;33m)\u001b[0m\u001b[1;33m.\u001b[0m\u001b[0mmean\u001b[0m\u001b[1;33m(\u001b[0m\u001b[1;36m1\u001b[0m\u001b[1;33m)\u001b[0m\u001b[1;33m.\u001b[0m\u001b[0mmean\u001b[0m\u001b[1;33m(\u001b[0m\u001b[1;36m1\u001b[0m\u001b[1;33m)\u001b[0m\u001b[1;33m)\u001b[0m\u001b[1;33m\u001b[0m\u001b[0m\n\u001b[0m\u001b[0;32m     56\u001b[0m     \u001b[0mtransformer\u001b[0m\u001b[1;33m.\u001b[0m\u001b[0mset_transpose\u001b[0m\u001b[1;33m(\u001b[0m\u001b[1;34m'data'\u001b[0m\u001b[1;33m,\u001b[0m \u001b[1;33m(\u001b[0m\u001b[1;36m2\u001b[0m\u001b[1;33m,\u001b[0m\u001b[1;36m0\u001b[0m\u001b[1;33m,\u001b[0m\u001b[1;36m1\u001b[0m\u001b[1;33m)\u001b[0m\u001b[1;33m)\u001b[0m\u001b[1;33m\u001b[0m\u001b[0m\n\u001b[0;32m     57\u001b[0m     \u001b[0mtransformer\u001b[0m\u001b[1;33m.\u001b[0m\u001b[0mset_channel_swap\u001b[0m\u001b[1;33m(\u001b[0m\u001b[1;34m'data'\u001b[0m\u001b[1;33m,\u001b[0m \u001b[1;33m(\u001b[0m\u001b[1;36m2\u001b[0m\u001b[1;33m,\u001b[0m\u001b[1;36m1\u001b[0m\u001b[1;33m,\u001b[0m\u001b[1;36m0\u001b[0m\u001b[1;33m)\u001b[0m\u001b[1;33m)\u001b[0m\u001b[1;33m\u001b[0m\u001b[0m\n",
      "\u001b[1;32m/opt/caffe/python/caffe/io.pyc\u001b[0m in \u001b[0;36mset_mean\u001b[1;34m(self, in_, mean)\u001b[0m\n\u001b[0;32m    247\u001b[0m             \u001b[1;31m# broadcast channels\u001b[0m\u001b[1;33m\u001b[0m\u001b[1;33m\u001b[0m\u001b[0m\n\u001b[0;32m    248\u001b[0m             \u001b[1;32mif\u001b[0m \u001b[0mms\u001b[0m\u001b[1;33m[\u001b[0m\u001b[1;36m0\u001b[0m\u001b[1;33m]\u001b[0m \u001b[1;33m!=\u001b[0m \u001b[0mself\u001b[0m\u001b[1;33m.\u001b[0m\u001b[0minputs\u001b[0m\u001b[1;33m[\u001b[0m\u001b[0min_\u001b[0m\u001b[1;33m]\u001b[0m\u001b[1;33m[\u001b[0m\u001b[1;36m1\u001b[0m\u001b[1;33m]\u001b[0m\u001b[1;33m:\u001b[0m\u001b[1;33m\u001b[0m\u001b[0m\n\u001b[1;32m--> 249\u001b[1;33m                 \u001b[1;32mraise\u001b[0m \u001b[0mValueError\u001b[0m\u001b[1;33m(\u001b[0m\u001b[1;34m'Mean channels incompatible with input.'\u001b[0m\u001b[1;33m)\u001b[0m\u001b[1;33m\u001b[0m\u001b[0m\n\u001b[0m\u001b[0;32m    250\u001b[0m             \u001b[0mmean\u001b[0m \u001b[1;33m=\u001b[0m \u001b[0mmean\u001b[0m\u001b[1;33m[\u001b[0m\u001b[1;33m:\u001b[0m\u001b[1;33m,\u001b[0m \u001b[0mnp\u001b[0m\u001b[1;33m.\u001b[0m\u001b[0mnewaxis\u001b[0m\u001b[1;33m,\u001b[0m \u001b[0mnp\u001b[0m\u001b[1;33m.\u001b[0m\u001b[0mnewaxis\u001b[0m\u001b[1;33m]\u001b[0m\u001b[1;33m\u001b[0m\u001b[0m\n\u001b[0;32m    251\u001b[0m         \u001b[1;32melse\u001b[0m\u001b[1;33m:\u001b[0m\u001b[1;33m\u001b[0m\u001b[0m\n",
      "\u001b[1;31mValueError\u001b[0m: Mean channels incompatible with input."
     ]
    }
   ],
   "source": [
    "#Now let's make a forward on the net that we have just finetunned:\n",
    "YPredAlexNet, feats_fc6, feats_fc7 = predict(solver.net, samples[testIdx])\n",
    "yTest = samples[testIdx, 0]"
   ]
  },
  {
   "cell_type": "code",
   "execution_count": 17,
   "metadata": {
    "collapsed": true
   },
   "outputs": [
    {
     "ename": "NameError",
     "evalue": "name 'YPredAlexNet' is not defined",
     "output_type": "error",
     "traceback": [
      "\u001b[1;31m---------------------------------------------------------------------------\u001b[0m",
      "\u001b[1;31mNameError\u001b[0m                                 Traceback (most recent call last)",
      "\u001b[1;32m<ipython-input-17-cdef27b97326>\u001b[0m in \u001b[0;36m<module>\u001b[1;34m()\u001b[0m\n\u001b[0;32m      2\u001b[0m \u001b[1;33m\u001b[0m\u001b[0m\n\u001b[0;32m      3\u001b[0m \u001b[0mpred_cats\u001b[0m \u001b[1;33m=\u001b[0m \u001b[1;33m[\u001b[0m\u001b[1;33m]\u001b[0m\u001b[1;33m\u001b[0m\u001b[0m\n\u001b[1;32m----> 4\u001b[1;33m \u001b[1;32mfor\u001b[0m \u001b[0mbird\u001b[0m \u001b[1;32min\u001b[0m \u001b[0mYPredAlexNet\u001b[0m\u001b[1;33m:\u001b[0m\u001b[1;33m\u001b[0m\u001b[0m\n\u001b[0m\u001b[0;32m      5\u001b[0m     \u001b[0mpred_cats\u001b[0m\u001b[1;33m.\u001b[0m\u001b[0mappend\u001b[0m\u001b[1;33m(\u001b[0m\u001b[0mdict_cats\u001b[0m\u001b[1;33m[\u001b[0m\u001b[0mbird\u001b[0m\u001b[1;33m[\u001b[0m\u001b[1;36m0\u001b[0m\u001b[1;33m]\u001b[0m\u001b[1;33m]\u001b[0m\u001b[1;33m.\u001b[0m\u001b[0msplit\u001b[0m\u001b[1;33m(\u001b[0m\u001b[1;34m'/'\u001b[0m\u001b[1;33m)\u001b[0m\u001b[1;33m[\u001b[0m\u001b[1;36m0\u001b[0m\u001b[1;33m]\u001b[0m\u001b[1;33m)\u001b[0m\u001b[1;33m\u001b[0m\u001b[0m\n\u001b[0;32m      6\u001b[0m \u001b[0mpredicted_test_cats\u001b[0m \u001b[1;33m=\u001b[0m   \u001b[1;33m[\u001b[0m\u001b[0mpred_cats\u001b[0m\u001b[1;33m[\u001b[0m\u001b[0mi\u001b[0m\u001b[1;33m]\u001b[0m \u001b[1;32mfor\u001b[0m \u001b[0mi\u001b[0m \u001b[1;32min\u001b[0m \u001b[0mtestIdx\u001b[0m\u001b[1;33m]\u001b[0m\u001b[1;33m\u001b[0m\u001b[0m\n",
      "\u001b[1;31mNameError\u001b[0m: name 'YPredAlexNet' is not defined"
     ]
    }
   ],
   "source": [
    "inv_bird_map = {v: k for k, v in dict_cats.items()}\n",
    "\n",
    "pred_cats = []\n",
    "for bird in YPredAlexNet:\n",
    "    pred_cats.append(dict_cats[bird[0]].split('/')[0])\n",
    "predicted_test_cats =   [pred_cats[i] for i in testIdx]\n",
    "confusion_finetunning = confusion_matrix(yTest,predicted_test_cats, labels=birdsLabels)\n",
    "#YPredAlexNet"
   ]
  },
  {
   "cell_type": "code",
   "execution_count": 238,
   "metadata": {
    "collapsed": false
   },
   "outputs": [
    {
     "data": {
      "text/plain": [
       "[('data', (40, 1, 1, 4096)),\n",
       " ('label', (40, 1, 1, 1)),\n",
       " ('fc7', (40, 32)),\n",
       " ('fc8_birds', (40, 6)),\n",
       " ('fc8_birds_fc8_birds_0_split_0', (40, 6)),\n",
       " ('fc8_birds_fc8_birds_0_split_1', (40, 6)),\n",
       " ('prob', (40, 6)),\n",
       " ('loss', ())]"
      ]
     },
     "execution_count": 238,
     "metadata": {},
     "output_type": "execute_result"
    }
   ],
   "source": [
    "[(k, v.data.shape) for k, v in solver.net.blobs.items()]"
   ]
  },
  {
   "cell_type": "code",
   "execution_count": 239,
   "metadata": {
    "collapsed": true
   },
   "outputs": [
    {
     "ename": "NameError",
     "evalue": "name 'yTest' is not defined",
     "output_type": "error",
     "traceback": [
      "\u001b[1;31m---------------------------------------------------------------------------\u001b[0m",
      "\u001b[1;31mNameError\u001b[0m                                 Traceback (most recent call last)",
      "\u001b[1;32m<ipython-input-239-5927b4eebe1c>\u001b[0m in \u001b[0;36m<module>\u001b[1;34m()\u001b[0m\n\u001b[0;32m      1\u001b[0m \u001b[1;32mfor\u001b[0m \u001b[0mi\u001b[0m \u001b[1;32min\u001b[0m \u001b[0mrange\u001b[0m\u001b[1;33m(\u001b[0m\u001b[1;36m10\u001b[0m\u001b[1;33m)\u001b[0m\u001b[1;33m:\u001b[0m\u001b[1;33m\u001b[0m\u001b[0m\n\u001b[1;32m----> 2\u001b[1;33m     \u001b[1;32mprint\u001b[0m \u001b[0myTest\u001b[0m\u001b[1;33m[\u001b[0m\u001b[0mi\u001b[0m\u001b[1;33m]\u001b[0m\u001b[1;33m,\u001b[0m\u001b[0mpredicted_test_cats\u001b[0m\u001b[1;33m[\u001b[0m\u001b[0mi\u001b[0m\u001b[1;33m]\u001b[0m\u001b[1;33m\u001b[0m\u001b[0m\n\u001b[0m",
      "\u001b[1;31mNameError\u001b[0m: name 'yTest' is not defined"
     ]
    }
   ],
   "source": [
    "for i in range(10):\n",
    "    print yTest[i],predicted_test_cats[i]"
   ]
  },
  {
   "cell_type": "code",
   "execution_count": 240,
   "metadata": {
    "collapsed": true
   },
   "outputs": [
    {
     "data": {
      "text/plain": [
       "array([[[[ 0.]]],\n",
       "\n",
       "\n",
       "       [[[ 0.]]],\n",
       "\n",
       "\n",
       "       [[[ 0.]]],\n",
       "\n",
       "\n",
       "       [[[ 0.]]],\n",
       "\n",
       "\n",
       "       [[[ 0.]]],\n",
       "\n",
       "\n",
       "       [[[ 0.]]],\n",
       "\n",
       "\n",
       "       [[[ 0.]]],\n",
       "\n",
       "\n",
       "       [[[ 0.]]]], dtype=float32)"
      ]
     },
     "execution_count": 240,
     "metadata": {},
     "output_type": "execute_result"
    }
   ],
   "source": [
    "solver.test_nets[0].blobs['label'].data[:8]"
   ]
  },
  {
   "cell_type": "code",
   "execution_count": 21,
   "metadata": {
    "collapsed": true
   },
   "outputs": [
    {
     "data": {
      "text/plain": [
       "array([['wood_duck', '/data1/birds/wood_duck/wod037.jpg'],\n",
       "       ['wood_duck', '/data1/birds/wood_duck/wod004.jpg'],\n",
       "       ['wood_duck', '/data1/birds/wood_duck/wod018.jpg'],\n",
       "       ['wood_duck', '/data1/birds/wood_duck/wod027.jpg'],\n",
       "       ['wood_duck', '/data1/birds/wood_duck/wod013.jpg'],\n",
       "       ['wood_duck', '/data1/birds/wood_duck/wod003.jpg'],\n",
       "       ['wood_duck', '/data1/birds/wood_duck/wod034.jpg'],\n",
       "       ['wood_duck', '/data1/birds/wood_duck/wod053.jpg'],\n",
       "       ['wood_duck', '/data1/birds/wood_duck/wod085.jpg'],\n",
       "       ['wood_duck', '/data1/birds/wood_duck/wod005.jpg'],\n",
       "       ['wood_duck', '/data1/birds/wood_duck/wod046.jpg'],\n",
       "       ['wood_duck', '/data1/birds/wood_duck/wod075.jpg'],\n",
       "       ['wood_duck', '/data1/birds/wood_duck/wod083.jpg'],\n",
       "       ['wood_duck', '/data1/birds/wood_duck/wod036.jpg'],\n",
       "       ['wood_duck', '/data1/birds/wood_duck/wod002.jpg'],\n",
       "       ['wood_duck', '/data1/birds/wood_duck/wod048.jpg'],\n",
       "       ['wood_duck', '/data1/birds/wood_duck/wod091.jpg'],\n",
       "       ['wood_duck', '/data1/birds/wood_duck/wod020.jpg'],\n",
       "       ['wood_duck', '/data1/birds/wood_duck/wod069.jpg'],\n",
       "       ['wood_duck', '/data1/birds/wood_duck/wod052.jpg'],\n",
       "       ['wood_duck', '/data1/birds/wood_duck/wod024.jpg'],\n",
       "       ['wood_duck', '/data1/birds/wood_duck/wod055.jpg'],\n",
       "       ['wood_duck', '/data1/birds/wood_duck/wod035.jpg'],\n",
       "       ['wood_duck', '/data1/birds/wood_duck/wod014.jpg'],\n",
       "       ['wood_duck', '/data1/birds/wood_duck/wod021.jpg'],\n",
       "       ['wood_duck', '/data1/birds/wood_duck/wod062.jpg'],\n",
       "       ['wood_duck', '/data1/birds/wood_duck/wod044.jpg'],\n",
       "       ['wood_duck', '/data1/birds/wood_duck/wod087.jpg'],\n",
       "       ['wood_duck', '/data1/birds/wood_duck/wod025.jpg'],\n",
       "       ['wood_duck', '/data1/birds/wood_duck/wod030.jpg'],\n",
       "       ['wood_duck', '/data1/birds/wood_duck/wod049.jpg'],\n",
       "       ['wood_duck', '/data1/birds/wood_duck/wod089.jpg'],\n",
       "       ['wood_duck', '/data1/birds/wood_duck/wod031.jpg'],\n",
       "       ['wood_duck', '/data1/birds/wood_duck/wod070.jpg'],\n",
       "       ['wood_duck', '/data1/birds/wood_duck/wod074.jpg'],\n",
       "       ['wood_duck', '/data1/birds/wood_duck/wod043.jpg'],\n",
       "       ['wood_duck', '/data1/birds/wood_duck/wod078.jpg'],\n",
       "       ['wood_duck', '/data1/birds/wood_duck/wod094.jpg'],\n",
       "       ['wood_duck', '/data1/birds/wood_duck/wod063.jpg'],\n",
       "       ['wood_duck', '/data1/birds/wood_duck/wod028.jpg'],\n",
       "       ['wood_duck', '/data1/birds/wood_duck/wod066.jpg'],\n",
       "       ['wood_duck', '/data1/birds/wood_duck/wod054.jpg'],\n",
       "       ['wood_duck', '/data1/birds/wood_duck/wod098.jpg'],\n",
       "       ['wood_duck', '/data1/birds/wood_duck/wod068.jpg'],\n",
       "       ['wood_duck', '/data1/birds/wood_duck/wod006.jpg'],\n",
       "       ['wood_duck', '/data1/birds/wood_duck/wod092.jpg'],\n",
       "       ['wood_duck', '/data1/birds/wood_duck/wod045.jpg'],\n",
       "       ['wood_duck', '/data1/birds/wood_duck/wod059.jpg'],\n",
       "       ['wood_duck', '/data1/birds/wood_duck/wod050.jpg'],\n",
       "       ['wood_duck', '/data1/birds/wood_duck/wod026.jpg'],\n",
       "       ['toucan', '/data1/birds/toucan/tou086.jpg'],\n",
       "       ['toucan', '/data1/birds/toucan/tou041.jpg'],\n",
       "       ['toucan', '/data1/birds/toucan/tou013.jpg'],\n",
       "       ['toucan', '/data1/birds/toucan/tou004.jpg'],\n",
       "       ['toucan', '/data1/birds/toucan/tou047.jpg'],\n",
       "       ['toucan', '/data1/birds/toucan/tou045.jpg'],\n",
       "       ['toucan', '/data1/birds/toucan/tou015.jpg'],\n",
       "       ['toucan', '/data1/birds/toucan/tou067.jpg'],\n",
       "       ['toucan', '/data1/birds/toucan/tou080.jpg'],\n",
       "       ['toucan', '/data1/birds/toucan/tou035.jpg'],\n",
       "       ['toucan', '/data1/birds/toucan/tou019.jpg'],\n",
       "       ['toucan', '/data1/birds/toucan/tou007.jpg'],\n",
       "       ['toucan', '/data1/birds/toucan/tou058.jpg'],\n",
       "       ['toucan', '/data1/birds/toucan/tou072.jpg'],\n",
       "       ['toucan', '/data1/birds/toucan/tou051.jpg'],\n",
       "       ['toucan', '/data1/birds/toucan/tou031.jpg'],\n",
       "       ['toucan', '/data1/birds/toucan/tou017.jpg'],\n",
       "       ['toucan', '/data1/birds/toucan/tou027.jpg'],\n",
       "       ['toucan', '/data1/birds/toucan/tou088.jpg'],\n",
       "       ['toucan', '/data1/birds/toucan/tou010.jpg'],\n",
       "       ['toucan', '/data1/birds/toucan/tou100.jpg'],\n",
       "       ['toucan', '/data1/birds/toucan/tou084.jpg'],\n",
       "       ['toucan', '/data1/birds/toucan/tou001.jpg'],\n",
       "       ['toucan', '/data1/birds/toucan/tou074.jpg'],\n",
       "       ['toucan', '/data1/birds/toucan/tou049.jpg'],\n",
       "       ['toucan', '/data1/birds/toucan/tou068.jpg'],\n",
       "       ['toucan', '/data1/birds/toucan/tou064.jpg'],\n",
       "       ['toucan', '/data1/birds/toucan/tou096.jpg'],\n",
       "       ['toucan', '/data1/birds/toucan/tou065.jpg'],\n",
       "       ['toucan', '/data1/birds/toucan/tou076.jpg'],\n",
       "       ['toucan', '/data1/birds/toucan/tou046.jpg'],\n",
       "       ['toucan', '/data1/birds/toucan/tou085.jpg'],\n",
       "       ['toucan', '/data1/birds/toucan/tou069.jpg'],\n",
       "       ['toucan', '/data1/birds/toucan/tou037.jpg'],\n",
       "       ['toucan', '/data1/birds/toucan/tou028.jpg'],\n",
       "       ['toucan', '/data1/birds/toucan/tou092.jpg'],\n",
       "       ['toucan', '/data1/birds/toucan/tou083.jpg'],\n",
       "       ['toucan', '/data1/birds/toucan/tou024.jpg'],\n",
       "       ['toucan', '/data1/birds/toucan/tou082.jpg'],\n",
       "       ['toucan', '/data1/birds/toucan/tou060.jpg'],\n",
       "       ['toucan', '/data1/birds/toucan/tou030.jpg'],\n",
       "       ['toucan', '/data1/birds/toucan/tou055.jpg'],\n",
       "       ['toucan', '/data1/birds/toucan/tou077.jpg'],\n",
       "       ['toucan', '/data1/birds/toucan/tou090.jpg'],\n",
       "       ['toucan', '/data1/birds/toucan/tou033.jpg'],\n",
       "       ['toucan', '/data1/birds/toucan/tou070.jpg'],\n",
       "       ['toucan', '/data1/birds/toucan/tou073.jpg'],\n",
       "       ['toucan', '/data1/birds/toucan/tou002.jpg'],\n",
       "       ['toucan', '/data1/birds/toucan/tou025.jpg'],\n",
       "       ['toucan', '/data1/birds/toucan/tou005.jpg'],\n",
       "       ['egret', '/data1/birds/egret/egr085.jpg'],\n",
       "       ['egret', '/data1/birds/egret/egr072.jpg'],\n",
       "       ['egret', '/data1/birds/egret/egr026.jpg'],\n",
       "       ['egret', '/data1/birds/egret/egr023.jpg'],\n",
       "       ['egret', '/data1/birds/egret/egr053.jpg'],\n",
       "       ['egret', '/data1/birds/egret/egr049.jpg'],\n",
       "       ['egret', '/data1/birds/egret/egr059.jpg'],\n",
       "       ['egret', '/data1/birds/egret/egr091.jpg'],\n",
       "       ['egret', '/data1/birds/egret/egr041.jpg'],\n",
       "       ['egret', '/data1/birds/egret/egr034.jpg'],\n",
       "       ['egret', '/data1/birds/egret/egr012.jpg'],\n",
       "       ['egret', '/data1/birds/egret/egr055.jpg'],\n",
       "       ['egret', '/data1/birds/egret/egr022.jpg'],\n",
       "       ['egret', '/data1/birds/egret/egr014.jpg'],\n",
       "       ['egret', '/data1/birds/egret/egr019.jpg'],\n",
       "       ['egret', '/data1/birds/egret/egr096.jpg'],\n",
       "       ['egret', '/data1/birds/egret/egr031.jpg'],\n",
       "       ['egret', '/data1/birds/egret/egr035.jpg'],\n",
       "       ['egret', '/data1/birds/egret/egr065.jpg'],\n",
       "       ['egret', '/data1/birds/egret/egr013.jpg'],\n",
       "       ['egret', '/data1/birds/egret/egr037.jpg'],\n",
       "       ['egret', '/data1/birds/egret/egr064.jpg'],\n",
       "       ['egret', '/data1/birds/egret/egr016.jpg'],\n",
       "       ['egret', '/data1/birds/egret/egr002.jpg'],\n",
       "       ['egret', '/data1/birds/egret/egr030.jpg'],\n",
       "       ['egret', '/data1/birds/egret/egr089.jpg'],\n",
       "       ['egret', '/data1/birds/egret/egr020.jpg'],\n",
       "       ['egret', '/data1/birds/egret/egr088.jpg'],\n",
       "       ['egret', '/data1/birds/egret/egr081.jpg'],\n",
       "       ['egret', '/data1/birds/egret/egr004.jpg'],\n",
       "       ['egret', '/data1/birds/egret/egr077.jpg'],\n",
       "       ['egret', '/data1/birds/egret/egr042.jpg'],\n",
       "       ['egret', '/data1/birds/egret/egr039.jpg'],\n",
       "       ['egret', '/data1/birds/egret/egr040.jpg'],\n",
       "       ['egret', '/data1/birds/egret/egr063.jpg'],\n",
       "       ['egret', '/data1/birds/egret/egr021.jpg'],\n",
       "       ['egret', '/data1/birds/egret/egr003.jpg'],\n",
       "       ['egret', '/data1/birds/egret/egr011.jpg'],\n",
       "       ['egret', '/data1/birds/egret/egr067.jpg'],\n",
       "       ['egret', '/data1/birds/egret/egr076.jpg'],\n",
       "       ['egret', '/data1/birds/egret/egr024.jpg'],\n",
       "       ['egret', '/data1/birds/egret/egr007.jpg'],\n",
       "       ['egret', '/data1/birds/egret/egr073.jpg'],\n",
       "       ['egret', '/data1/birds/egret/egr010.jpg'],\n",
       "       ['egret', '/data1/birds/egret/egr051.jpg'],\n",
       "       ['egret', '/data1/birds/egret/egr097.jpg'],\n",
       "       ['egret', '/data1/birds/egret/egr093.jpg'],\n",
       "       ['egret', '/data1/birds/egret/egr033.jpg'],\n",
       "       ['egret', '/data1/birds/egret/egr048.jpg'],\n",
       "       ['egret', '/data1/birds/egret/egr038.jpg'],\n",
       "       ['mandarin', '/data1/birds/mandarin/man090.jpg'],\n",
       "       ['mandarin', '/data1/birds/mandarin/man016.jpg'],\n",
       "       ['mandarin', '/data1/birds/mandarin/man012.jpg'],\n",
       "       ['mandarin', '/data1/birds/mandarin/man063.jpg'],\n",
       "       ['mandarin', '/data1/birds/mandarin/man062.jpg'],\n",
       "       ['mandarin', '/data1/birds/mandarin/man045.jpg'],\n",
       "       ['mandarin', '/data1/birds/mandarin/man094.jpg'],\n",
       "       ['mandarin', '/data1/birds/mandarin/man082.jpg'],\n",
       "       ['mandarin', '/data1/birds/mandarin/man066.jpg'],\n",
       "       ['mandarin', '/data1/birds/mandarin/man088.jpg'],\n",
       "       ['mandarin', '/data1/birds/mandarin/man018.jpg'],\n",
       "       ['mandarin', '/data1/birds/mandarin/man050.jpg'],\n",
       "       ['mandarin', '/data1/birds/mandarin/man059.jpg'],\n",
       "       ['mandarin', '/data1/birds/mandarin/man041.jpg'],\n",
       "       ['mandarin', '/data1/birds/mandarin/man008.jpg'],\n",
       "       ['mandarin', '/data1/birds/mandarin/man002.jpg'],\n",
       "       ['mandarin', '/data1/birds/mandarin/man084.jpg'],\n",
       "       ['mandarin', '/data1/birds/mandarin/man003.jpg'],\n",
       "       ['mandarin', '/data1/birds/mandarin/man099.jpg'],\n",
       "       ['mandarin', '/data1/birds/mandarin/man054.jpg'],\n",
       "       ['mandarin', '/data1/birds/mandarin/man087.jpg'],\n",
       "       ['mandarin', '/data1/birds/mandarin/man086.jpg'],\n",
       "       ['mandarin', '/data1/birds/mandarin/man021.jpg'],\n",
       "       ['mandarin', '/data1/birds/mandarin/man093.jpg'],\n",
       "       ['mandarin', '/data1/birds/mandarin/man038.jpg'],\n",
       "       ['mandarin', '/data1/birds/mandarin/man080.jpg'],\n",
       "       ['mandarin', '/data1/birds/mandarin/man026.jpg'],\n",
       "       ['mandarin', '/data1/birds/mandarin/man097.jpg'],\n",
       "       ['mandarin', '/data1/birds/mandarin/man078.jpg'],\n",
       "       ['mandarin', '/data1/birds/mandarin/man034.jpg'],\n",
       "       ['mandarin', '/data1/birds/mandarin/man058.jpg'],\n",
       "       ['mandarin', '/data1/birds/mandarin/man039.jpg'],\n",
       "       ['mandarin', '/data1/birds/mandarin/man028.jpg'],\n",
       "       ['mandarin', '/data1/birds/mandarin/man060.jpg'],\n",
       "       ['mandarin', '/data1/birds/mandarin/man019.jpg'],\n",
       "       ['mandarin', '/data1/birds/mandarin/man085.jpg'],\n",
       "       ['mandarin', '/data1/birds/mandarin/man047.jpg'],\n",
       "       ['mandarin', '/data1/birds/mandarin/man013.jpg'],\n",
       "       ['mandarin', '/data1/birds/mandarin/man024.jpg'],\n",
       "       ['mandarin', '/data1/birds/mandarin/man032.jpg'],\n",
       "       ['mandarin', '/data1/birds/mandarin/man044.jpg'],\n",
       "       ['mandarin', '/data1/birds/mandarin/man095.jpg'],\n",
       "       ['mandarin', '/data1/birds/mandarin/man005.jpg'],\n",
       "       ['mandarin', '/data1/birds/mandarin/man065.jpg'],\n",
       "       ['mandarin', '/data1/birds/mandarin/man083.jpg'],\n",
       "       ['mandarin', '/data1/birds/mandarin/man076.jpg'],\n",
       "       ['mandarin', '/data1/birds/mandarin/man014.jpg'],\n",
       "       ['mandarin', '/data1/birds/mandarin/man023.jpg'],\n",
       "       ['mandarin', '/data1/birds/mandarin/man048.jpg'],\n",
       "       ['mandarin', '/data1/birds/mandarin/man036.jpg'],\n",
       "       ['owl', '/data1/birds/owl/owl033.jpg'],\n",
       "       ['owl', '/data1/birds/owl/owl097.jpg'],\n",
       "       ['owl', '/data1/birds/owl/owl042.jpg'],\n",
       "       ['owl', '/data1/birds/owl/owl011.jpg'],\n",
       "       ['owl', '/data1/birds/owl/owl032.jpg'],\n",
       "       ['owl', '/data1/birds/owl/owl096.jpg'],\n",
       "       ['owl', '/data1/birds/owl/owl069.jpg'],\n",
       "       ['owl', '/data1/birds/owl/owl095.jpg'],\n",
       "       ['owl', '/data1/birds/owl/owl039.jpg'],\n",
       "       ['owl', '/data1/birds/owl/owl093.jpg'],\n",
       "       ['owl', '/data1/birds/owl/owl040.jpg'],\n",
       "       ['owl', '/data1/birds/owl/owl010.jpg'],\n",
       "       ['owl', '/data1/birds/owl/owl025.jpg'],\n",
       "       ['owl', '/data1/birds/owl/owl066.jpg'],\n",
       "       ['owl', '/data1/birds/owl/owl007.jpg'],\n",
       "       ['owl', '/data1/birds/owl/owl021.jpg'],\n",
       "       ['owl', '/data1/birds/owl/owl020.jpg'],\n",
       "       ['owl', '/data1/birds/owl/owl004.jpg'],\n",
       "       ['owl', '/data1/birds/owl/owl008.jpg'],\n",
       "       ['owl', '/data1/birds/owl/owl028.jpg'],\n",
       "       ['owl', '/data1/birds/owl/owl055.jpg'],\n",
       "       ['owl', '/data1/birds/owl/owl076.jpg'],\n",
       "       ['owl', '/data1/birds/owl/owl078.jpg'],\n",
       "       ['owl', '/data1/birds/owl/owl036.jpg'],\n",
       "       ['owl', '/data1/birds/owl/owl017.jpg'],\n",
       "       ['owl', '/data1/birds/owl/owl001.jpg'],\n",
       "       ['owl', '/data1/birds/owl/owl086.jpg'],\n",
       "       ['owl', '/data1/birds/owl/owl030.jpg'],\n",
       "       ['owl', '/data1/birds/owl/owl037.jpg'],\n",
       "       ['owl', '/data1/birds/owl/owl043.jpg'],\n",
       "       ['owl', '/data1/birds/owl/owl029.jpg'],\n",
       "       ['owl', '/data1/birds/owl/owl038.jpg'],\n",
       "       ['owl', '/data1/birds/owl/owl085.jpg'],\n",
       "       ['owl', '/data1/birds/owl/owl049.jpg'],\n",
       "       ['owl', '/data1/birds/owl/owl094.jpg'],\n",
       "       ['owl', '/data1/birds/owl/owl082.jpg'],\n",
       "       ['owl', '/data1/birds/owl/owl003.jpg'],\n",
       "       ['owl', '/data1/birds/owl/owl057.jpg'],\n",
       "       ['owl', '/data1/birds/owl/owl092.jpg'],\n",
       "       ['owl', '/data1/birds/owl/owl047.jpg'],\n",
       "       ['owl', '/data1/birds/owl/owl070.jpg'],\n",
       "       ['owl', '/data1/birds/owl/owl079.jpg'],\n",
       "       ['owl', '/data1/birds/owl/owl074.jpg'],\n",
       "       ['owl', '/data1/birds/owl/owl084.jpg'],\n",
       "       ['owl', '/data1/birds/owl/owl044.jpg'],\n",
       "       ['owl', '/data1/birds/owl/owl099.jpg'],\n",
       "       ['owl', '/data1/birds/owl/owl050.jpg'],\n",
       "       ['owl', '/data1/birds/owl/owl071.jpg'],\n",
       "       ['owl', '/data1/birds/owl/owl077.jpg'],\n",
       "       ['owl', '/data1/birds/owl/owl060.jpg'],\n",
       "       ['puffin', '/data1/birds/puffin/puf070.jpg'],\n",
       "       ['puffin', '/data1/birds/puffin/puf054.jpg'],\n",
       "       ['puffin', '/data1/birds/puffin/puf077.jpg'],\n",
       "       ['puffin', '/data1/birds/puffin/puf074.jpg'],\n",
       "       ['puffin', '/data1/birds/puffin/puf060.jpg'],\n",
       "       ['puffin', '/data1/birds/puffin/puf028.jpg'],\n",
       "       ['puffin', '/data1/birds/puffin/puf003.jpg'],\n",
       "       ['puffin', '/data1/birds/puffin/puf011.jpg'],\n",
       "       ['puffin', '/data1/birds/puffin/puf080.jpg'],\n",
       "       ['puffin', '/data1/birds/puffin/puf064.jpg'],\n",
       "       ['puffin', '/data1/birds/puffin/puf066.jpg'],\n",
       "       ['puffin', '/data1/birds/puffin/puf096.jpg'],\n",
       "       ['puffin', '/data1/birds/puffin/puf040.jpg'],\n",
       "       ['puffin', '/data1/birds/puffin/puf043.jpg'],\n",
       "       ['puffin', '/data1/birds/puffin/puf052.jpg'],\n",
       "       ['puffin', '/data1/birds/puffin/puf079.jpg'],\n",
       "       ['puffin', '/data1/birds/puffin/puf056.jpg'],\n",
       "       ['puffin', '/data1/birds/puffin/puf076.jpg'],\n",
       "       ['puffin', '/data1/birds/puffin/puf047.jpg'],\n",
       "       ['puffin', '/data1/birds/puffin/puf071.jpg'],\n",
       "       ['puffin', '/data1/birds/puffin/puf090.jpg'],\n",
       "       ['puffin', '/data1/birds/puffin/puf014.jpg'],\n",
       "       ['puffin', '/data1/birds/puffin/puf032.jpg'],\n",
       "       ['puffin', '/data1/birds/puffin/puf006.jpg'],\n",
       "       ['puffin', '/data1/birds/puffin/puf012.jpg'],\n",
       "       ['puffin', '/data1/birds/puffin/puf081.jpg'],\n",
       "       ['puffin', '/data1/birds/puffin/puf023.jpg'],\n",
       "       ['puffin', '/data1/birds/puffin/puf065.jpg'],\n",
       "       ['puffin', '/data1/birds/puffin/puf009.jpg'],\n",
       "       ['puffin', '/data1/birds/puffin/puf063.jpg'],\n",
       "       ['puffin', '/data1/birds/puffin/puf045.jpg'],\n",
       "       ['puffin', '/data1/birds/puffin/puf041.jpg'],\n",
       "       ['puffin', '/data1/birds/puffin/puf073.jpg'],\n",
       "       ['puffin', '/data1/birds/puffin/puf037.jpg'],\n",
       "       ['puffin', '/data1/birds/puffin/puf059.jpg'],\n",
       "       ['puffin', '/data1/birds/puffin/puf058.jpg'],\n",
       "       ['puffin', '/data1/birds/puffin/puf089.jpg'],\n",
       "       ['puffin', '/data1/birds/puffin/puf084.jpg'],\n",
       "       ['puffin', '/data1/birds/puffin/puf005.jpg'],\n",
       "       ['puffin', '/data1/birds/puffin/puf020.jpg'],\n",
       "       ['puffin', '/data1/birds/puffin/puf093.jpg'],\n",
       "       ['puffin', '/data1/birds/puffin/puf062.jpg'],\n",
       "       ['puffin', '/data1/birds/puffin/puf018.jpg'],\n",
       "       ['puffin', '/data1/birds/puffin/puf013.jpg'],\n",
       "       ['puffin', '/data1/birds/puffin/puf034.jpg'],\n",
       "       ['puffin', '/data1/birds/puffin/puf017.jpg'],\n",
       "       ['puffin', '/data1/birds/puffin/puf001.jpg'],\n",
       "       ['puffin', '/data1/birds/puffin/puf082.jpg'],\n",
       "       ['puffin', '/data1/birds/puffin/puf086.jpg'],\n",
       "       ['puffin', '/data1/birds/puffin/puf100.jpg']], \n",
       "      dtype='|S33')"
      ]
     },
     "execution_count": 21,
     "metadata": {},
     "output_type": "execute_result"
    }
   ],
   "source": [
    "samples[testIdx]"
   ]
  },
  {
   "cell_type": "code",
   "execution_count": null,
   "metadata": {
    "collapsed": false,
    "scrolled": true
   },
   "outputs": [],
   "source": [
    "cd /home/jsotaloram/active_learning/embeddings/tsne_python/"
   ]
  },
  {
   "cell_type": "code",
   "execution_count": null,
   "metadata": {
    "collapsed": false
   },
   "outputs": [],
   "source": [
    "import numpy as Math\n",
    "import pylab as Plot\n",
    "from pandas import DataFrame\n",
    "from bokeh.plotting import figure, output_notebook, show, vplot\n",
    "from bokeh.charts import Scatter, show\n",
    "import tsne\n",
    "output_notebook()\n",
    "\n",
    "%matplotlib inline"
   ]
  },
  {
   "cell_type": "code",
   "execution_count": 35,
   "metadata": {
    "collapsed": false
   },
   "outputs": [
    {
     "ename": "NameError",
     "evalue": "name 'feats_fc7' is not defined",
     "output_type": "error",
     "traceback": [
      "\u001b[1;31m---------------------------------------------------------------------------\u001b[0m",
      "\u001b[1;31mNameError\u001b[0m                                 Traceback (most recent call last)",
      "\u001b[1;32m<ipython-input-35-299fd753b0a7>\u001b[0m in \u001b[0;36m<module>\u001b[1;34m()\u001b[0m\n\u001b[1;32m----> 1\u001b[1;33m \u001b[0mY\u001b[0m \u001b[1;33m=\u001b[0m \u001b[0mtsne\u001b[0m\u001b[1;33m.\u001b[0m\u001b[0mtsne\u001b[0m\u001b[1;33m(\u001b[0m\u001b[0mfeats_fc7\u001b[0m\u001b[1;33m,\u001b[0m \u001b[1;36m2\u001b[0m\u001b[1;33m,\u001b[0m \u001b[1;36m50\u001b[0m\u001b[1;33m,\u001b[0m \u001b[1;36m20.0\u001b[0m\u001b[1;33m,\u001b[0m\u001b[1;36m120\u001b[0m\u001b[1;33m)\u001b[0m\u001b[1;33m;\u001b[0m\u001b[1;33m\u001b[0m\u001b[0m\n\u001b[0m",
      "\u001b[1;31mNameError\u001b[0m: name 'feats_fc7' is not defined"
     ]
    }
   ],
   "source": [
    "Y = tsne.tsne(feats_fc7, 2, 50, 20.0,120);"
   ]
  },
  {
   "cell_type": "code",
   "execution_count": 119,
   "metadata": {
    "collapsed": false
   },
   "outputs": [
    {
     "data": {
      "image/png": "[encoded data removed]",
      "text/plain": [
       "<matplotlib.figure.Figure at 0x7f82eeb20490>"
      ]
     },
     "metadata": {},
     "output_type": "display_data"
    }
   ],
   "source": [
    "Plot.scatter(Y[:,0], Y[:,1], 20, num_lbls_test);"
   ]
  },
  {
   "cell_type": "code",
   "execution_count": 121,
   "metadata": {
    "collapsed": true
   },
   "outputs": [
    {
     "data": {
      "text/plain": [
       "array([[ nan,  nan],\n",
       "       [ nan,  nan],\n",
       "       [ nan,  nan],\n",
       "       [ nan,  nan],\n",
       "       [ nan,  nan],\n",
       "       [ nan,  nan],\n",
       "       [ nan,  nan],\n",
       "       [ nan,  nan],\n",
       "       [ nan,  nan],\n",
       "       [ nan,  nan],\n",
       "       [ nan,  nan],\n",
       "       [ nan,  nan],\n",
       "       [ nan,  nan],\n",
       "       [ nan,  nan],\n",
       "       [ nan,  nan],\n",
       "       [ nan,  nan],\n",
       "       [ nan,  nan],\n",
       "       [ nan,  nan],\n",
       "       [ nan,  nan],\n",
       "       [ nan,  nan],\n",
       "       [ nan,  nan],\n",
       "       [ nan,  nan],\n",
       "       [ nan,  nan],\n",
       "       [ nan,  nan],\n",
       "       [ nan,  nan],\n",
       "       [ nan,  nan],\n",
       "       [ nan,  nan],\n",
       "       [ nan,  nan],\n",
       "       [ nan,  nan],\n",
       "       [ nan,  nan],\n",
       "       [ nan,  nan],\n",
       "       [ nan,  nan],\n",
       "       [ nan,  nan],\n",
       "       [ nan,  nan],\n",
       "       [ nan,  nan],\n",
       "       [ nan,  nan],\n",
       "       [ nan,  nan],\n",
       "       [ nan,  nan],\n",
       "       [ nan,  nan],\n",
       "       [ nan,  nan],\n",
       "       [ nan,  nan],\n",
       "       [ nan,  nan],\n",
       "       [ nan,  nan],\n",
       "       [ nan,  nan],\n",
       "       [ nan,  nan],\n",
       "       [ nan,  nan],\n",
       "       [ nan,  nan],\n",
       "       [ nan,  nan],\n",
       "       [ nan,  nan],\n",
       "       [ nan,  nan],\n",
       "       [ nan,  nan],\n",
       "       [ nan,  nan],\n",
       "       [ nan,  nan],\n",
       "       [ nan,  nan],\n",
       "       [ nan,  nan],\n",
       "       [ nan,  nan],\n",
       "       [ nan,  nan],\n",
       "       [ nan,  nan],\n",
       "       [ nan,  nan],\n",
       "       [ nan,  nan],\n",
       "       [ nan,  nan],\n",
       "       [ nan,  nan],\n",
       "       [ nan,  nan],\n",
       "       [ nan,  nan],\n",
       "       [ nan,  nan],\n",
       "       [ nan,  nan],\n",
       "       [ nan,  nan],\n",
       "       [ nan,  nan],\n",
       "       [ nan,  nan],\n",
       "       [ nan,  nan],\n",
       "       [ nan,  nan],\n",
       "       [ nan,  nan],\n",
       "       [ nan,  nan],\n",
       "       [ nan,  nan],\n",
       "       [ nan,  nan],\n",
       "       [ nan,  nan],\n",
       "       [ nan,  nan],\n",
       "       [ nan,  nan],\n",
       "       [ nan,  nan],\n",
       "       [ nan,  nan],\n",
       "       [ nan,  nan],\n",
       "       [ nan,  nan],\n",
       "       [ nan,  nan],\n",
       "       [ nan,  nan],\n",
       "       [ nan,  nan],\n",
       "       [ nan,  nan],\n",
       "       [ nan,  nan],\n",
       "       [ nan,  nan],\n",
       "       [ nan,  nan],\n",
       "       [ nan,  nan],\n",
       "       [ nan,  nan],\n",
       "       [ nan,  nan],\n",
       "       [ nan,  nan],\n",
       "       [ nan,  nan],\n",
       "       [ nan,  nan],\n",
       "       [ nan,  nan],\n",
       "       [ nan,  nan],\n",
       "       [ nan,  nan],\n",
       "       [ nan,  nan],\n",
       "       [ nan,  nan],\n",
       "       [ nan,  nan],\n",
       "       [ nan,  nan],\n",
       "       [ nan,  nan],\n",
       "       [ nan,  nan],\n",
       "       [ nan,  nan],\n",
       "       [ nan,  nan],\n",
       "       [ nan,  nan],\n",
       "       [ nan,  nan],\n",
       "       [ nan,  nan],\n",
       "       [ nan,  nan],\n",
       "       [ nan,  nan],\n",
       "       [ nan,  nan],\n",
       "       [ nan,  nan],\n",
       "       [ nan,  nan],\n",
       "       [ nan,  nan],\n",
       "       [ nan,  nan],\n",
       "       [ nan,  nan],\n",
       "       [ nan,  nan],\n",
       "       [ nan,  nan],\n",
       "       [ nan,  nan],\n",
       "       [ nan,  nan],\n",
       "       [ nan,  nan],\n",
       "       [ nan,  nan],\n",
       "       [ nan,  nan],\n",
       "       [ nan,  nan],\n",
       "       [ nan,  nan],\n",
       "       [ nan,  nan],\n",
       "       [ nan,  nan],\n",
       "       [ nan,  nan],\n",
       "       [ nan,  nan],\n",
       "       [ nan,  nan],\n",
       "       [ nan,  nan],\n",
       "       [ nan,  nan],\n",
       "       [ nan,  nan],\n",
       "       [ nan,  nan],\n",
       "       [ nan,  nan],\n",
       "       [ nan,  nan],\n",
       "       [ nan,  nan],\n",
       "       [ nan,  nan],\n",
       "       [ nan,  nan],\n",
       "       [ nan,  nan],\n",
       "       [ nan,  nan],\n",
       "       [ nan,  nan],\n",
       "       [ nan,  nan],\n",
       "       [ nan,  nan],\n",
       "       [ nan,  nan],\n",
       "       [ nan,  nan],\n",
       "       [ nan,  nan],\n",
       "       [ nan,  nan],\n",
       "       [ nan,  nan],\n",
       "       [ nan,  nan],\n",
       "       [ nan,  nan],\n",
       "       [ nan,  nan],\n",
       "       [ nan,  nan],\n",
       "       [ nan,  nan],\n",
       "       [ nan,  nan],\n",
       "       [ nan,  nan],\n",
       "       [ nan,  nan],\n",
       "       [ nan,  nan],\n",
       "       [ nan,  nan],\n",
       "       [ nan,  nan],\n",
       "       [ nan,  nan],\n",
       "       [ nan,  nan],\n",
       "       [ nan,  nan],\n",
       "       [ nan,  nan],\n",
       "       [ nan,  nan],\n",
       "       [ nan,  nan],\n",
       "       [ nan,  nan],\n",
       "       [ nan,  nan],\n",
       "       [ nan,  nan],\n",
       "       [ nan,  nan],\n",
       "       [ nan,  nan],\n",
       "       [ nan,  nan],\n",
       "       [ nan,  nan],\n",
       "       [ nan,  nan],\n",
       "       [ nan,  nan],\n",
       "       [ nan,  nan],\n",
       "       [ nan,  nan],\n",
       "       [ nan,  nan],\n",
       "       [ nan,  nan],\n",
       "       [ nan,  nan],\n",
       "       [ nan,  nan],\n",
       "       [ nan,  nan],\n",
       "       [ nan,  nan],\n",
       "       [ nan,  nan],\n",
       "       [ nan,  nan],\n",
       "       [ nan,  nan],\n",
       "       [ nan,  nan],\n",
       "       [ nan,  nan],\n",
       "       [ nan,  nan],\n",
       "       [ nan,  nan],\n",
       "       [ nan,  nan],\n",
       "       [ nan,  nan],\n",
       "       [ nan,  nan],\n",
       "       [ nan,  nan],\n",
       "       [ nan,  nan],\n",
       "       [ nan,  nan],\n",
       "       [ nan,  nan],\n",
       "       [ nan,  nan],\n",
       "       [ nan,  nan],\n",
       "       [ nan,  nan],\n",
       "       [ nan,  nan],\n",
       "       [ nan,  nan],\n",
       "       [ nan,  nan],\n",
       "       [ nan,  nan],\n",
       "       [ nan,  nan],\n",
       "       [ nan,  nan],\n",
       "       [ nan,  nan],\n",
       "       [ nan,  nan],\n",
       "       [ nan,  nan],\n",
       "       [ nan,  nan],\n",
       "       [ nan,  nan],\n",
       "       [ nan,  nan],\n",
       "       [ nan,  nan],\n",
       "       [ nan,  nan],\n",
       "       [ nan,  nan],\n",
       "       [ nan,  nan],\n",
       "       [ nan,  nan],\n",
       "       [ nan,  nan],\n",
       "       [ nan,  nan],\n",
       "       [ nan,  nan],\n",
       "       [ nan,  nan],\n",
       "       [ nan,  nan],\n",
       "       [ nan,  nan],\n",
       "       [ nan,  nan],\n",
       "       [ nan,  nan],\n",
       "       [ nan,  nan],\n",
       "       [ nan,  nan],\n",
       "       [ nan,  nan],\n",
       "       [ nan,  nan],\n",
       "       [ nan,  nan],\n",
       "       [ nan,  nan],\n",
       "       [ nan,  nan],\n",
       "       [ nan,  nan],\n",
       "       [ nan,  nan],\n",
       "       [ nan,  nan],\n",
       "       [ nan,  nan],\n",
       "       [ nan,  nan],\n",
       "       [ nan,  nan],\n",
       "       [ nan,  nan],\n",
       "       [ nan,  nan],\n",
       "       [ nan,  nan],\n",
       "       [ nan,  nan],\n",
       "       [ nan,  nan],\n",
       "       [ nan,  nan],\n",
       "       [ nan,  nan],\n",
       "       [ nan,  nan],\n",
       "       [ nan,  nan],\n",
       "       [ nan,  nan],\n",
       "       [ nan,  nan],\n",
       "       [ nan,  nan],\n",
       "       [ nan,  nan],\n",
       "       [ nan,  nan],\n",
       "       [ nan,  nan],\n",
       "       [ nan,  nan],\n",
       "       [ nan,  nan],\n",
       "       [ nan,  nan],\n",
       "       [ nan,  nan],\n",
       "       [ nan,  nan],\n",
       "       [ nan,  nan],\n",
       "       [ nan,  nan],\n",
       "       [ nan,  nan],\n",
       "       [ nan,  nan],\n",
       "       [ nan,  nan],\n",
       "       [ nan,  nan],\n",
       "       [ nan,  nan],\n",
       "       [ nan,  nan],\n",
       "       [ nan,  nan],\n",
       "       [ nan,  nan],\n",
       "       [ nan,  nan],\n",
       "       [ nan,  nan],\n",
       "       [ nan,  nan],\n",
       "       [ nan,  nan],\n",
       "       [ nan,  nan],\n",
       "       [ nan,  nan],\n",
       "       [ nan,  nan],\n",
       "       [ nan,  nan],\n",
       "       [ nan,  nan],\n",
       "       [ nan,  nan],\n",
       "       [ nan,  nan],\n",
       "       [ nan,  nan],\n",
       "       [ nan,  nan],\n",
       "       [ nan,  nan],\n",
       "       [ nan,  nan],\n",
       "       [ nan,  nan],\n",
       "       [ nan,  nan],\n",
       "       [ nan,  nan],\n",
       "       [ nan,  nan],\n",
       "       [ nan,  nan],\n",
       "       [ nan,  nan],\n",
       "       [ nan,  nan],\n",
       "       [ nan,  nan],\n",
       "       [ nan,  nan],\n",
       "       [ nan,  nan],\n",
       "       [ nan,  nan],\n",
       "       [ nan,  nan],\n",
       "       [ nan,  nan],\n",
       "       [ nan,  nan],\n",
       "       [ nan,  nan],\n",
       "       [ nan,  nan]])"
      ]
     },
     "execution_count": 121,
     "metadata": {},
     "output_type": "execute_result"
    }
   ],
   "source": [
    "Y[:]"
   ]
  },
  {
   "cell_type": "code",
   "execution_count": null,
   "metadata": {
    "collapsed": true
   },
   "outputs": [],
   "source": [
    "import caffe as cf\n",
    "import os\n",
    "import sys\n",
    "import numpy as np\n",
    "from pylab import *\n",
    "import pandas as pd\n",
    "import matplotlib.pyplot as plt\n",
    "import matplotlib.image as mpimg\n",
    "import caffe as cf\n",
    "import os\n",
    "from scipy.special import expit as sigmoid\n",
    "from sklearn.metrics import confusion_matrix\n",
    "from sklearn import svm\n",
    "from sklearn.metrics import classification_report\n",
    "from sklearn.metrics import accuracy_score\n",
    "import scipy.optimize\n"
   ]
  },
  {
   "cell_type": "code",
   "execution_count": 22,
   "metadata": {
    "collapsed": false
   },
   "outputs": [],
   "source": [
    "pred = np.empty((0,1), dtype=int)\n",
    "outputLfc6 = np.empty((0,4096))\n",
    "outputLfc7 = np.empty((0,4096))\n",
    "transformer = cf.io.Transformer({'data': solver.net.blobs['data'].data.shape})\n",
    "transformer.set_mean('data', np.load('/opt/caffe/python/caffe/imagenet/ilsvrc_2012_mean.npy').mean(1).mean(1))\n",
    "transformer.set_transpose('data', (2,0,1))\n",
    "transformer.set_channel_swap('data', (2,1,0))\n",
    "transformer.set_raw_scale('data', 255.0)\n"
   ]
  },
  {
   "cell_type": "code",
   "execution_count": 23,
   "metadata": {
    "collapsed": true
   },
   "outputs": [
    {
     "name": "stdout",
     "output_type": "stream",
     "text": [
      "0\n",
      "1\n",
      "2\n",
      "3\n",
      "4\n",
      "5\n",
      "6\n",
      "7\n",
      "8\n",
      "9\n",
      "10\n",
      "11\n",
      "12\n",
      "13\n",
      "14\n",
      "15\n",
      "16\n",
      "17\n",
      "18\n",
      "19\n",
      "20\n",
      "21\n",
      "22\n",
      "23\n",
      "24\n",
      "25\n",
      "26\n",
      "27\n",
      "28\n",
      "29\n",
      "30\n",
      "31\n",
      "32\n",
      "33\n",
      "34\n",
      "35\n",
      "36\n",
      "37\n",
      "38\n",
      "39\n",
      "40\n",
      "41\n",
      "42\n",
      "43\n",
      "44\n",
      "45\n",
      "46\n",
      "47\n",
      "48\n",
      "49\n",
      "50\n",
      "51\n",
      "52\n",
      "53\n",
      "54\n",
      "55\n",
      "56\n",
      "57\n",
      "58\n",
      "59\n",
      "60\n",
      "61\n",
      "62\n",
      "63\n",
      "64\n",
      "65\n",
      "66\n",
      "67\n",
      "68\n",
      "69\n",
      "70\n",
      "71\n",
      "72\n",
      "73\n",
      "74\n",
      "75\n",
      "76\n",
      "77\n",
      "78\n",
      "79\n",
      "80\n",
      "81\n",
      "82\n",
      "83\n",
      "84\n",
      "85\n",
      "86\n",
      "87\n",
      "88\n",
      "89\n",
      "90\n",
      "91\n",
      "92\n",
      "93\n",
      "94\n",
      "95\n",
      "96\n",
      "97\n",
      "98\n",
      "99\n",
      "100\n",
      "101\n",
      "102\n",
      "103\n",
      "104\n",
      "105\n",
      "106\n",
      "107\n",
      "108\n",
      "109\n",
      "110\n",
      "111\n",
      "112\n",
      "113\n",
      "114\n",
      "115\n",
      "116\n",
      "117\n",
      "118\n",
      "119\n",
      "120\n",
      "121\n",
      "122\n",
      "123\n",
      "124\n",
      "125\n",
      "126\n",
      "127\n",
      "128\n",
      "129\n",
      "130\n",
      "131\n",
      "132\n",
      "133\n",
      "134\n",
      "135\n",
      "136\n",
      "137\n",
      "138\n",
      "139\n",
      "140\n",
      "141\n",
      "142\n",
      "143\n",
      "144\n",
      "145\n",
      "146\n",
      "147\n",
      "148\n",
      "149\n",
      "150\n",
      "151\n",
      "152\n",
      "153\n",
      "154\n",
      "155\n",
      "156\n",
      "157\n",
      "158\n",
      "159\n",
      "160\n",
      "161\n",
      "162\n",
      "163\n",
      "164\n",
      "165\n",
      "166\n",
      "167\n",
      "168\n",
      "169\n",
      "170\n",
      "171\n",
      "172\n",
      "173\n",
      "174\n",
      "175\n",
      "176\n",
      "177\n",
      "178\n",
      "179\n",
      "180\n",
      "181\n",
      "182\n",
      "183\n",
      "184\n",
      "185\n",
      "186\n",
      "187\n",
      "188\n",
      "189\n",
      "190\n",
      "191\n",
      "192\n",
      "193\n",
      "194\n",
      "195\n",
      "196\n",
      "197\n",
      "198\n",
      "199\n",
      "200\n",
      "201\n",
      "202\n",
      "203\n",
      "204\n",
      "205\n",
      "206\n",
      "207\n",
      "208\n",
      "209\n",
      "210\n",
      "211\n",
      "212\n",
      "213\n",
      "214\n",
      "215\n",
      "216\n",
      "217\n",
      "218\n",
      "219\n",
      "220\n",
      "221\n",
      "222\n",
      "223\n",
      "224\n",
      "225\n",
      "226\n",
      "227\n",
      "228\n",
      "229\n",
      "230\n",
      "231\n",
      "232\n",
      "233\n",
      "234\n",
      "235\n",
      "236\n",
      "237\n",
      "238\n",
      "239\n",
      "240\n",
      "241\n",
      "242\n",
      "243\n",
      "244\n",
      "245\n",
      "246\n",
      "247\n",
      "248\n",
      "249\n",
      "250\n",
      "251\n",
      "252\n",
      "253\n",
      "254\n",
      "255\n",
      "256\n",
      "257\n",
      "258\n",
      "259\n",
      "260\n",
      "261\n",
      "262\n",
      "263\n",
      "264\n",
      "265\n",
      "266\n",
      "267\n",
      "268\n",
      "269\n",
      "270\n",
      "271\n",
      "272\n",
      "273\n",
      "274\n",
      "275\n",
      "276\n",
      "277\n",
      "278\n",
      "279\n",
      "280\n",
      "281\n",
      "282\n",
      "283\n",
      "284\n",
      "285\n",
      "286\n",
      "287\n",
      "288\n",
      "289\n",
      "290\n",
      "291\n",
      "292\n",
      "293\n",
      "294\n",
      "295\n",
      "296\n",
      "297\n",
      "298\n",
      "299\n",
      "300\n",
      "301\n",
      "302\n",
      "303\n",
      "304\n",
      "305\n",
      "306\n",
      "307\n",
      "308\n",
      "309\n",
      "310\n",
      "311\n",
      "312\n",
      "313\n",
      "314\n",
      "315\n",
      "316\n",
      "317\n",
      "318\n",
      "319\n",
      "320\n",
      "321\n",
      "322\n",
      "323\n",
      "324\n",
      "325\n",
      "326\n",
      "327\n",
      "328\n",
      "329\n",
      "330\n",
      "331\n",
      "332\n",
      "333\n",
      "334\n",
      "335\n",
      "336\n",
      "337\n",
      "338\n",
      "339\n",
      "340\n",
      "341\n",
      "342\n",
      "343\n",
      "344\n",
      "345\n",
      "346\n",
      "347\n",
      "348\n",
      "349\n",
      "350\n",
      "351\n",
      "352\n",
      "353\n",
      "354\n",
      "355\n",
      "356\n",
      "357\n",
      "358\n",
      "359\n",
      "360\n",
      "361\n",
      "362\n",
      "363\n",
      "364\n",
      "365\n",
      "366\n",
      "367\n",
      "368\n",
      "369\n",
      "370\n",
      "371\n",
      "372\n",
      "373\n",
      "374\n",
      "375\n",
      "376\n",
      "377\n",
      "378\n",
      "379\n",
      "380\n",
      "381\n",
      "382\n",
      "383\n",
      "384\n",
      "385\n",
      "386\n",
      "387\n",
      "388\n",
      "389\n",
      "390\n",
      "391\n",
      "392\n",
      "393\n",
      "394\n",
      "395\n",
      "396\n",
      "397\n",
      "398\n",
      "399\n",
      "400\n",
      "401\n",
      "402\n",
      "403\n",
      "404\n",
      "405\n",
      "406\n",
      "407\n",
      "408\n",
      "409\n",
      "410\n",
      "411\n",
      "412\n",
      "413\n",
      "414\n",
      "415\n",
      "416\n",
      "417\n",
      "418\n",
      "419\n",
      "420\n",
      "421\n",
      "422\n",
      "423\n",
      "424\n",
      "425\n",
      "426\n",
      "427\n",
      "428\n",
      "429\n",
      "430\n",
      "431\n",
      "432\n",
      "433\n",
      "434\n",
      "435\n",
      "436\n",
      "437\n",
      "438\n",
      "439\n",
      "440\n",
      "441\n",
      "442\n",
      "443\n",
      "444\n",
      "445\n",
      "446\n",
      "447\n",
      "448\n",
      "449\n",
      "450\n",
      "451\n",
      "452\n",
      "453\n",
      "454\n",
      "455\n",
      "456\n",
      "457\n",
      "458\n",
      "459\n",
      "460\n",
      "461\n",
      "462\n",
      "463\n",
      "464\n",
      "465\n",
      "466\n",
      "467\n",
      "468\n",
      "469\n",
      "470\n",
      "471\n",
      "472\n",
      "473\n",
      "474\n",
      "475\n",
      "476\n",
      "477\n",
      "478\n",
      "479\n",
      "480\n",
      "481\n",
      "482\n",
      "483\n",
      "484\n",
      "485\n",
      "486\n",
      "487\n",
      "488\n",
      "489\n",
      "490\n",
      "491\n",
      "492\n",
      "493\n",
      "494\n",
      "495\n",
      "496\n",
      "497\n",
      "498\n",
      "499\n",
      "500\n",
      "501\n",
      "502\n",
      "503\n",
      "504\n",
      "505\n",
      "506\n",
      "507\n",
      "508\n",
      "509\n",
      "510\n",
      "511\n",
      "512\n",
      "513\n",
      "514\n",
      "515\n",
      "516\n",
      "517\n",
      "518\n",
      "519\n",
      "520\n",
      "521\n",
      "522\n",
      "523\n",
      "524\n",
      "525\n",
      "526\n",
      "527\n",
      "528\n",
      "529\n",
      "530\n",
      "531\n",
      "532\n",
      "533\n",
      "534\n",
      "535\n",
      "536\n",
      "537\n",
      "538\n",
      "539\n",
      "540\n",
      "541\n",
      "542\n",
      "543\n",
      "544\n",
      "545\n",
      "546\n",
      "547\n",
      "548\n",
      "549\n",
      "550\n",
      "551\n",
      "552\n",
      "553\n",
      "554\n",
      "555\n",
      "556\n",
      "557\n",
      "558\n",
      "559\n",
      "560\n",
      "561\n",
      "562\n",
      "563\n",
      "564\n",
      "565\n",
      "566\n",
      "567\n",
      "568\n",
      "569\n",
      "570\n",
      "571\n",
      "572\n",
      "573\n",
      "574\n",
      "575\n",
      "576\n",
      "577\n",
      "578\n",
      "579\n",
      "580\n",
      "581\n",
      "582\n",
      "583\n",
      "584\n",
      "585\n",
      "586\n",
      "587\n",
      "588\n",
      "589\n",
      "590\n",
      "591\n",
      "592\n",
      "593\n",
      "594\n",
      "595\n",
      "596\n",
      "597\n",
      "598\n",
      "599\n"
     ]
    }
   ],
   "source": [
    "count = 0 \n",
    "net = solver.net\n",
    "for sample in samples:\n",
    "    print count\n",
    "    count = count+1\n",
    "    net.blobs['data'].data[...] = transformer.preprocess('data', cf.io.load_image(sample[1]))\n",
    "    out = net.forward()\n",
    "    pred = np.concatenate((pred, [net.blobs['fc8_birds'].data[0].flatten().argsort()[-1:-2:-1]]))\n",
    "    outputLfc6 = np.concatenate((outputLfc6, [net.blobs['fc6'].data[0]]))\n",
    "    outputLfc7 = np.concatenate((outputLfc7, [net.blobs['fc7'].data[0]]))\n"
   ]
  },
  {
   "cell_type": "code",
   "execution_count": 31,
   "metadata": {
    "collapsed": false
   },
   "outputs": [
    {
     "name": "stdout",
     "output_type": "stream",
     "text": [
      "0.0\n",
      "32.5150337219\n",
      "2.61357793729\n",
      "0.410275600715\n",
      "====================\n",
      "0.0\n",
      "105.12651825\n",
      "22.2349723337\n",
      "1.10176022573\n"
     ]
    }
   ],
   "source": [
    "print(np.min(outputLfc7))\n",
    "print(np.max(outputLfc7))\n",
    "print(np.var(outputLfc7))\n",
    "print(np.mean(outputLfc7))\n",
    "print(\"====================\")\n",
    "print(np.min(outputLfc6))\n",
    "print(np.max(outputLfc6))\n",
    "print(np.var(outputLfc6))\n",
    "print(np.mean(outputLfc6))\n"
   ]
  },
  {
   "cell_type": "code",
   "execution_count": 32,
   "metadata": {
    "collapsed": false
   },
   "outputs": [
    {
     "data": {
      "text/plain": [
       "u'/home/jsotaloram/active_learning/embeddings/tsne_python'"
      ]
     },
     "execution_count": 32,
     "metadata": {},
     "output_type": "execute_result"
    }
   ],
   "source": [
    "pwd"
   ]
  },
  {
   "cell_type": "code",
   "execution_count": 33,
   "metadata": {
    "collapsed": false
   },
   "outputs": [],
   "source": [
    "import cPickle as pickle\n",
    "pickle.dump([outputLfc6,outputLfc7], open( \"feats_alexnet_birdsDS.pkl\", \"wb\" ) )\n"
   ]
  },
  {
   "cell_type": "code",
   "execution_count": 34,
   "metadata": {
    "collapsed": false
   },
   "outputs": [
    {
     "name": "stdout",
     "output_type": "stream",
     "text": [
      "Preprocessing the data using PCA...\n"
     ]
    }
   ],
   "source": [
    "Y_pca = tsne.pca(outputLfc6,2)"
   ]
  },
  {
   "cell_type": "code",
   "execution_count": 37,
   "metadata": {
    "collapsed": false
   },
   "outputs": [
    {
     "data": {
      "text/plain": [
       "(600, 4096)"
      ]
     },
     "execution_count": 37,
     "metadata": {},
     "output_type": "execute_result"
    }
   ],
   "source": []
  },
  {
   "cell_type": "code",
   "execution_count": 39,
   "metadata": {
    "collapsed": false
   },
   "outputs": [
    {
     "name": "stderr",
     "output_type": "stream",
     "text": [
      "/opt/anaconda/envs/mindlabenv/lib/python2.7/site-packages/numpy/core/numeric.py:525: ComplexWarning: Casting complex values to real discards the imaginary part\n",
      "  return array(a, dtype, copy=False, order=order, subok=True)\n",
      "/opt/anaconda/envs/mindlabenv/lib/python2.7/site-packages/matplotlib/collections.py:590: FutureWarning: elementwise comparison failed; returning scalar instead, but in the future will perform elementwise comparison\n",
      "  if self._edgecolors == str('face'):\n"
     ]
    },
    {
     "data": {
      "image/png": "[encoded data removed]",
      "text/plain": [
       "<matplotlib.figure.Figure at 0x7f63ee410210>"
      ]
     },
     "metadata": {},
     "output_type": "display_data"
    }
   ],
   "source": [
    "Plot.scatter(Y_pca[:,0], Y_pca[:,1], 20, all_samples_cats);"
   ]
  },
  {
   "cell_type": "code",
   "execution_count": 41,
   "metadata": {
    "collapsed": false
   },
   "outputs": [
    {
     "name": "stdout",
     "output_type": "stream",
     "text": [
      "Preprocessing the data using PCA...\n",
      "Computing pairwise distances...\n",
      "Computing P-values for point  0  of  600 ...\n",
      "Computing P-values for point  500  of  600 ...\n",
      "Mean value of sigma:  1.0\n",
      "Iteration  10 : error is  nan\n",
      "Iteration  20 : error is  nan\n",
      "Iteration  30 : error is  nan\n",
      "Iteration  40 : error is  nan\n",
      "Iteration  50 : error is  nan\n",
      "Iteration  60 : error is  nan\n",
      "Iteration  70 : error is  nan\n",
      "Iteration  80 : error is  nan\n",
      "Iteration  90 : error is  nan\n",
      "Iteration  100 : error is  nan\n",
      "Iteration  110 : error is  nan\n"
     ]
    }
   ],
   "source": [
    "Y_tsne=tsne.tsne(outputLfc6, 2, 50, 20.0, 110); #110 iterations"
   ]
  },
  {
   "cell_type": "code",
   "execution_count": 39,
   "metadata": {
    "collapsed": true
   },
   "outputs": [],
   "source": [
    "deployProtoTxt = \"/home/jsotaloram/active_learning/exp_birds/deploy.prototxt\"\n",
    "modelAlexNet = \"/home/jsotaloram/active_learning/exp_birds/bvlc_alexnet.caffemodel\""
   ]
  },
  {
   "cell_type": "code",
   "execution_count": 24,
   "metadata": {
    "collapsed": false
   },
   "outputs": [],
   "source": [
    "alexNet = cf.Net(deployProtoTxt, modelAlexNet, cf.TEST)"
   ]
  },
  {
   "cell_type": "code",
   "execution_count": 25,
   "metadata": {
    "collapsed": false
   },
   "outputs": [
    {
     "data": {
      "text/plain": [
       "[('data', (10, 3, 227, 227)),\n",
       " ('conv1', (10, 96, 55, 55)),\n",
       " ('norm1', (10, 96, 55, 55)),\n",
       " ('pool1', (10, 96, 27, 27)),\n",
       " ('conv2', (10, 256, 27, 27)),\n",
       " ('norm2', (10, 256, 27, 27)),\n",
       " ('pool2', (10, 256, 13, 13)),\n",
       " ('conv3', (10, 384, 13, 13)),\n",
       " ('conv4', (10, 384, 13, 13)),\n",
       " ('conv5', (10, 256, 13, 13)),\n",
       " ('pool5', (10, 256, 6, 6)),\n",
       " ('fc6', (10, 4096)),\n",
       " ('fc7', (10, 4096)),\n",
       " ('fc8', (10, 1000)),\n",
       " ('prob', (10, 1000))]"
      ]
     },
     "execution_count": 25,
     "metadata": {},
     "output_type": "execute_result"
    }
   ],
   "source": [
    "[(k, v.data.shape) for k, v in alexNet.blobs.items()]"
   ]
  },
  {
   "cell_type": "code",
   "execution_count": 26,
   "metadata": {
    "collapsed": false
   },
   "outputs": [],
   "source": [
    "!cd /home/jsotaloram/active_learning/exp_birds/\n",
    "import utils_birds\n",
    "from utils_birds import *"
   ]
  },
  {
   "cell_type": "code",
   "execution_count": 27,
   "metadata": {
    "collapsed": false
   },
   "outputs": [],
   "source": [
    "YPredAlexNet, XLfc6, XLfc7 = predict(alexNet, samples)"
   ]
  },
  {
   "cell_type": "code",
   "execution_count": 28,
   "metadata": {
    "collapsed": true
   },
   "outputs": [],
   "source": [
    "import cPickle as pickle\n",
    "pickle.dump([XLfc6,XLfc7], open( \"alexnetFeats_birdsDS_v2.pkl\", \"wb\" ) )\n"
   ]
  },
  {
   "cell_type": "code",
   "execution_count": 66,
   "metadata": {
    "collapsed": false
   },
   "outputs": [
    {
     "name": "stdout",
     "output_type": "stream",
     "text": [
      "Preprocessing the data using PCA...\n",
      "Computing pairwise distances...\n",
      "Computing P-values for point  0  of  600 ...\n",
      "Computing P-values for point  500  of  600 ...\n",
      "Mean value of sigma:  2.38330729708\n",
      "Iteration  10 : error is  nan\n",
      "Iteration  20 : error is  nan\n",
      "Iteration  30 : error is  nan\n",
      "Iteration  40 : error is  nan\n",
      "Iteration  50 : error is  nan\n",
      "Iteration  60 : error is  nan\n",
      "Iteration  70 : error is  nan\n",
      "Iteration  80 : error is  nan\n",
      "Iteration  90 : error is  nan\n",
      "Iteration  100 : error is  nan\n",
      "Iteration  110 : error is  nan\n"
     ]
    }
   ],
   "source": [
    "Y_fc6 = tsne.tsne(XLfc6, 2, 50, 20.0, 110); #110 iterations"
   ]
  },
  {
   "cell_type": "code",
   "execution_count": 29,
   "metadata": {
    "collapsed": true
   },
   "outputs": [],
   "source": [
    "XTrainLfc6 = XLfc6[trainIdx]\n",
    "yTrainLfc6 = samples[trainIdx, 0]\n",
    "XCrossLfc6 = XLfc6[crossIdx]\n",
    "yCrossLfc6 = samples[crossIdx, 0]\n",
    "XTestLfc6 = XLfc6[testIdx]\n",
    "yTestLfc6 = samples[testIdx, 0]"
   ]
  },
  {
   "cell_type": "code",
   "execution_count": 30,
   "metadata": {
    "collapsed": true
   },
   "outputs": [],
   "source": [
    "from scipy.special import expit as sigmoid\n",
    "from sklearn.metrics import confusion_matrix\n",
    "from sklearn import svm\n",
    "from sklearn.metrics import classification_report\n",
    "from sklearn.metrics import accuracy_score\n",
    "import scipy.optimize\n"
   ]
  },
  {
   "cell_type": "code",
   "execution_count": 31,
   "metadata": {
    "collapsed": false
   },
   "outputs": [
    {
     "data": {
      "text/plain": [
       "LinearSVC(C=1.0, class_weight=None, dual=True, fit_intercept=True,\n",
       "     intercept_scaling=1, loss='squared_hinge', max_iter=1000,\n",
       "     multi_class='ovr', penalty='l2', random_state=None, tol=0.0001,\n",
       "     verbose=0)"
      ]
     },
     "execution_count": 31,
     "metadata": {},
     "output_type": "execute_result"
    }
   ],
   "source": [
    "linSvmLfc6 = svm.LinearSVC()\n",
    "linSvmLfc6.fit(XTrainLfc6, yTrainLfc6)"
   ]
  },
  {
   "cell_type": "code",
   "execution_count": 32,
   "metadata": {
    "collapsed": true
   },
   "outputs": [],
   "source": [
    "yPredSvmLfc6 = linSvmLfc6.predict(XTestLfc6)"
   ]
  },
  {
   "cell_type": "code",
   "execution_count": 33,
   "metadata": {
    "collapsed": true
   },
   "outputs": [],
   "source": [
    "CMSvmLfc6 = confusion_matrix(yTestLfc6, yPredSvmLfc6, labels=birdsLabels)"
   ]
  },
  {
   "cell_type": "code",
   "execution_count": 34,
   "metadata": {
    "collapsed": false
   },
   "outputs": [
    {
     "name": "stderr",
     "output_type": "stream",
     "text": [
      "/opt/anaconda/envs/mindlabenv/lib/python2.7/site-packages/matplotlib/collections.py:590: FutureWarning: elementwise comparison failed; returning scalar instead, but in the future will perform elementwise comparison\n",
      "  if self._edgecolors == str('face'):\n"
     ]
    },
    {
     "data": {
      "image/png": "[encoded data removed]",
      "text/plain": [
       "<matplotlib.figure.Figure at 0x7f2e7ab28e90>"
      ]
     },
     "metadata": {},
     "output_type": "display_data"
    }
   ],
   "source": [
    "plt.figure(figsize=(8, 8))\n",
    "plot_confusion_matrix(CMSvmLfc6, labels=birdsLabels)"
   ]
  },
  {
   "cell_type": "code",
   "execution_count": 51,
   "metadata": {
    "collapsed": false
   },
   "outputs": [
    {
     "name": "stdout",
     "output_type": "stream",
     "text": [
      "             precision    recall  f1-score   support\n",
      "\n",
      "      egret       0.98      1.00      0.99        50\n",
      "   mandarin       0.98      0.90      0.94        50\n",
      "        owl       0.98      1.00      0.99        50\n",
      "     puffin       0.91      0.98      0.94        50\n",
      "     toucan       0.98      0.94      0.96        50\n",
      "  wood_duck       0.94      0.94      0.94        50\n",
      "\n",
      "avg / total       0.96      0.96      0.96       300\n",
      "\n"
     ]
    }
   ],
   "source": [
    "print(classification_report(yTestLfc6, yPredSvmLfc6))"
   ]
  },
  {
   "cell_type": "code",
   "execution_count": 35,
   "metadata": {
    "collapsed": true
   },
   "outputs": [],
   "source": [
    "XTrainLfc7 = XLfc7[trainIdx]\n",
    "yTrainLfc7 = samples[trainIdx, 0]\n",
    "XCrossLfc7 = XLfc7[crossIdx]\n",
    "yCrossLfc7 = samples[crossIdx, 0]\n",
    "XTestLfc7 = XLfc7[testIdx]\n",
    "yTestLfc7 = samples[testIdx, 0]"
   ]
  },
  {
   "cell_type": "code",
   "execution_count": 36,
   "metadata": {
    "collapsed": false
   },
   "outputs": [
    {
     "data": {
      "text/plain": [
       "LinearSVC(C=1.0, class_weight=None, dual=True, fit_intercept=True,\n",
       "     intercept_scaling=1, loss='squared_hinge', max_iter=1000,\n",
       "     multi_class='ovr', penalty='l2', random_state=None, tol=0.0001,\n",
       "     verbose=0)"
      ]
     },
     "execution_count": 36,
     "metadata": {},
     "output_type": "execute_result"
    }
   ],
   "source": [
    "linSvmLfc7 = svm.LinearSVC()\n",
    "linSvmLfc7.fit(XTrainLfc7, yTrainLfc7)"
   ]
  },
  {
   "cell_type": "code",
   "execution_count": 37,
   "metadata": {
    "collapsed": true
   },
   "outputs": [],
   "source": [
    "yPredSvmLfc7 = linSvmLfc7.predict(XTestLfc7)"
   ]
  },
  {
   "cell_type": "code",
   "execution_count": 38,
   "metadata": {
    "collapsed": true
   },
   "outputs": [],
   "source": [
    "CMSvmLfc7 = confusion_matrix(yTestLfc7, yPredSvmLfc7, labels=birdsLabels)"
   ]
  },
  {
   "cell_type": "code",
   "execution_count": 39,
   "metadata": {
    "collapsed": false
   },
   "outputs": [
    {
     "data": {
      "image/png": "[encoded data removed]",
      "text/plain": [
       "<matplotlib.figure.Figure at 0x7f2e7a5272d0>"
      ]
     },
     "metadata": {},
     "output_type": "display_data"
    }
   ],
   "source": [
    "plt.figure(figsize=(8, 8))\n",
    "plot_confusion_matrix(CMSvmLfc7, labels=birdsLabels)"
   ]
  },
  {
   "cell_type": "code",
   "execution_count": 57,
   "metadata": {
    "collapsed": false
   },
   "outputs": [
    {
     "name": "stdout",
     "output_type": "stream",
     "text": [
      "             precision    recall  f1-score   support\n",
      "\n",
      "      egret       1.00      0.98      0.99        50\n",
      "   mandarin       0.92      0.94      0.93        50\n",
      "        owl       1.00      1.00      1.00        50\n",
      "     puffin       0.96      0.98      0.97        50\n",
      "     toucan       0.98      0.96      0.97        50\n",
      "  wood_duck       0.92      0.92      0.92        50\n",
      "\n",
      "avg / total       0.96      0.96      0.96       300\n",
      "\n"
     ]
    }
   ],
   "source": [
    "print(classification_report(yTestLfc7, yPredSvmLfc7))"
   ]
  },
  {
   "cell_type": "code",
   "execution_count": 241,
   "metadata": {
    "collapsed": true
   },
   "outputs": [],
   "source": [
    "import caffe as cf"
   ]
  },
  {
   "cell_type": "code",
   "execution_count": 242,
   "metadata": {
    "collapsed": true
   },
   "outputs": [],
   "source": [
    "solverPrototxt='/home/jsotaloram/active_learning/exp_birds/protos/solver_proto_lr2_wd0.001_birds.prototxt'\n",
    "deployPrototxt='/home/jsotaloram/active_learning/exp_birds/protos/proto_lr2_wd0.001_birds.prototxt'\n",
    "cf.set_mode_gpu()\n"
   ]
  },
  {
   "cell_type": "code",
   "execution_count": 243,
   "metadata": {
    "collapsed": true
   },
   "outputs": [],
   "source": [
    "train_size = 120\n",
    "val_size = 180\n",
    "test_size = 300\n",
    "data4D = np.zeros([train_size ,1,1,4096],np.float32)\n",
    "data4DL = np.zeros([train_size ,1,1,1], np.float32)\n",
    "data4D_val = np.zeros([val_size ,1,1,4096],np.float32)\n",
    "data4DL_val = np.zeros([val_size ,1,1,1], np.float32)\n",
    "data4D_test = np.zeros([test_size ,1,1,4096],np.float32)\n",
    "data4DL_test = np.zeros([test_size ,1,1,1], np.float32)\n",
    "\n",
    "full_idx_range = np.arange(train_size)"
   ]
  },
  {
   "cell_type": "code",
   "execution_count": 244,
   "metadata": {
    "collapsed": true
   },
   "outputs": [],
   "source": [
    "#print(full_idx_range)\n",
    "#np.random.shuffle(full_idx_range)\n",
    "#np.random.shuffle(full_idx_range_val)\n",
    "#np.random.shuffle(full_idx_range_test)\n",
    "\n",
    "#print(full_idx_range)\n"
   ]
  },
  {
   "cell_type": "code",
   "execution_count": 245,
   "metadata": {
    "collapsed": false
   },
   "outputs": [],
   "source": [
    "inv_bird_map_nameOnly = {v: k for k, v in dict_cats_nameOnly.items()}\n",
    "inv_bird_map_nameOnly['wood_duck']\n",
    "yTrainLfc7_labels = [inv_bird_map_nameOnly[i] for i in yTrainLfc7]\n",
    "yTestLfc7_labels = [inv_bird_map_nameOnly[i] for i in yTestLfc7]\n"
   ]
  },
  {
   "cell_type": "code",
   "execution_count": 519,
   "metadata": {
    "collapsed": false
   },
   "outputs": [
    {
     "name": "stdout",
     "output_type": "stream",
     "text": [
      "[[[[ 0.          0.          1.18869257 ...,  0.          0.          0.        ]]]]\n"
     ]
    }
   ],
   "source": [
    "\n",
    "Xrs = XTrainLfc7.reshape(train_size,1,1,4096)\n",
    "Yrs = np.array(yTrainLfc7_labels).reshape(train_size,1,1,1)\n",
    "\n",
    "#Xval = XCrossLfc7.reshape(val_size,1,1,4096)\n",
    "#Yval = np.array(yCrossLfc6_labels).reshape(val_size,1,1,1)\n",
    "\n",
    "Xtest = np.array(XTestLfc7).reshape(test_size,1,1,4096)\n",
    "Ytest = np.array(yTestLfc7_labels).reshape(test_size,1,1,1)\n",
    "\n",
    "data4D[0:120,:,:,:]  = [Xrs[train_idx] for train_idx in range(120)]\n",
    "data4DL[0:120,:,:,:] = [Yrs[train_idx] for train_idx in range(120)]\n",
    "\n",
    "data4D_toy = data4D[0].reshape(1,1,1,4096)\n",
    "data4DL_toy = data4DL[0].reshape(1,1,1,1)\n",
    "\n",
    "#data4D_val[0:180,:,:,:]  = [Xval[val_idx] for val_idx in val_idx]\n",
    "#data4DL_val[0:180,:,:,:] = [Yval[val_idx] for val_idx in full_idx_range_val]\n",
    "\n",
    "data4D_test[0:300,:,:,:]  = [Xtest[test_idx] for test_idx in range(300)]\n",
    "data4DL_test[0:300,:,:,:] = [Ytest[test_idx] for test_idx in range(300)]\n",
    "\n",
    "print data4D_toy"
   ]
  },
  {
   "cell_type": "code",
   "execution_count": 600,
   "metadata": {
    "collapsed": false
   },
   "outputs": [
    {
     "name": "stdout",
     "output_type": "stream",
     "text": [
      "(1, 1, 1, 4096)\n",
      "2040.2\n"
     ]
    }
   ],
   "source": [
    "def set_single_sample(num_sampl):\n",
    "    return (data4D[num_sampl].reshape(1,1,1,4096), data4DL[num_sampl].reshape(1,1,1,1))\n",
    "\n",
    "print set_toy_sample(num_sampl)[0].shape\n",
    "def set_singleTest_sample(num_sampl):\n",
    "    return (data4D_test[num_sampl].reshape(1,1,1,4096), data4DL_test[num_sampl].reshape(1,1,1,1))\n",
    "\n",
    "print(np.sum(set_singleTest_sample(10)[0]))\n"
   ]
  },
  {
   "cell_type": "code",
   "execution_count": 247,
   "metadata": {
    "collapsed": true
   },
   "outputs": [],
   "source": [
    "\n",
    "full_idx_range = np.arange(train_size)\n",
    "full_idx_range_val = np.arange(val_size)\n",
    "full_idx_range_test = np.arange(test_size)\n",
    "\n",
    "learning_rates_pool = [0.0001,0.0003, 0.001,0.005,0.01,0.1,0.5,0.8,1,2,4]\n",
    "decay_mult = [0.0001,0.001,0.005, 0.01,0.1,0.5, 1,5,2,10,100]\n",
    "hyper_params_combs = [] \n",
    "for lr_item in learning_rates_pool:\n",
    "    for dec_item in decay_mult:\n",
    "        #print 'combination of lr: ' + str(lr_item) +' and decay: ' +str(dec_item) + '\\n'\n",
    "        hyper_params_combs.append((lr_item,dec_item))\n"
   ]
  },
  {
   "cell_type": "code",
   "execution_count": 451,
   "metadata": {
    "collapsed": false
   },
   "outputs": [
    {
     "name": "stdout",
     "output_type": "stream",
     "text": [
      "1791.34\n"
     ]
    },
    {
     "data": {
      "text/plain": [
       "array([[[[ 0.,  0.,  0., ...,  0.,  0.,  0.]]]], dtype=float32)"
      ]
     },
     "execution_count": 451,
     "metadata": {},
     "output_type": "execute_result"
    }
   ],
   "source": [
    "# Here will be described each of the nessesarly methods:\n",
    "#solver.net.forward() compute the ['prob'] and the ['loss'] for the current bach of samples\n",
    "#solver.net.backward() Backward pass: prepare diffs and run the net backward. \n",
    "#solver.net.backward(diffs=['fc8_birds'])['fc8_birds'].shape\n",
    "#solver.net.blobs.items()\n",
    "niter = 10000\n",
    "num_classes = 6\n",
    "batch_nsize = solver.net.blobs['data'].data.shape[0]\n",
    "num_hidn = solver.net.blobs['fc7'].data.shape[1]\n",
    "grad_layers = 1 #only taking into account fc7 and fc8_birds\n",
    "#print(solver.net.forward()['prob'].shape)\n",
    "net_fwrds = {}\n",
    "net_fwrds['fc7'] = np.zeros((niter, batch_nsize, num_classes)) #(10000, 2, 40, 32) \n",
    "net_bkwrds = {}\n",
    "net_bkwrds['fc7'] = np.zeros(niter)\n",
    "\n",
    "#print(solver.net.backward(diffs=['fc8_birds'])['fc8_birds'].shape[0])\n",
    "#solver.net.forward(blobs=[])\n",
    "\n",
    "#print ('Training with batch size of ' + str(batch_nsize))\n",
    "#print ('net_fwrds shape es ' + str(net_fwrds['fc7'].shape))\n",
    "#net_fwrds['fc7'][0,0] =  solver.net.forward()['prob'].flatten()\n",
    "#print(np.linalg.norm(solver.net.backward(diffs=['fc7'])['fc7']))\n",
    "#print(solver.net.backward())\n",
    "print(np.sum(data4D[0,:,:,:]))\n",
    "solver.net.blobs['data'].data"
   ]
  },
  {
   "cell_type": "code",
   "execution_count": 558,
   "metadata": {
    "collapsed": false
   },
   "outputs": [
    {
     "name": "stdout",
     "output_type": "stream",
     "text": [
      "[ 0.18148656  0.16088147  0.16825493  0.17059448  0.16902225  0.14976026]\n",
      "[[-0.00038674  0.00968746 -0.0205188  -0.00367535 -0.01200717  0.00719258\n",
      "   0.00295646 -0.00871575  0.01003674  0.00276687  0.00283858 -0.00140541\n",
      "   0.00661991 -0.00483315 -0.00847466 -0.00794144  0.01504628 -0.00935124\n",
      "  -0.00867611 -0.008472   -0.0108938  -0.00027574 -0.00893286  0.0013509\n",
      "   0.00575821  0.0007013   0.00194938  0.01585026 -0.0149168   0.0056632\n",
      "   0.0104617  -0.00659172]]\n",
      "0.0498703\n",
      "f1 so far: 0.05\n",
      "[ 0.18148656  0.16088147  0.16825493  0.17059448  0.16902225  0.14976026]\n",
      "[[ -1.28473872e-02  -9.68193461e-04  -2.66418159e-02  -6.43217470e-03\n",
      "   -2.01762803e-02  -1.15049891e-02  -9.20358070e-06  -1.89380031e-02\n",
      "    6.05948549e-03  -2.85928906e-03  -3.32369376e-03  -8.41375161e-03\n",
      "    1.17342372e-03  -2.99066165e-03  -1.47584127e-02  -2.17035376e-02\n",
      "    2.46055133e-04  -1.57397296e-02  -1.84308719e-02  -2.45185848e-02\n",
      "   -2.53042299e-02  -6.31075166e-03  -1.22305956e-02  -1.12435101e-02\n",
      "   -7.40565080e-03  -7.61219999e-03  -5.70186414e-03   1.13004465e-02\n",
      "   -2.28466652e-02  -5.78040350e-03  -5.32517559e-04  -1.32817430e-02]]\n",
      "0.0760987\n",
      "f1 so far: 0.16\n",
      "[ 0.18148656  0.16088147  0.16825493  0.17059448  0.16902225  0.14976026]\n",
      "[[ 0.00696869 -0.00087267 -0.02168963 -0.00501248  0.00038544  0.00045447\n",
      "  -0.01926726 -0.00224595 -0.01632253 -0.02641768 -0.00119394 -0.0061917\n",
      "  -0.01258038 -0.01345023 -0.01188667 -0.01447833 -0.01191989  0.00480506\n",
      "   0.0014273  -0.0018699  -0.00408759 -0.00759916  0.0081449   0.01476803\n",
      "  -0.00784479 -0.01230659 -0.01843298 -0.01366296 -0.00673377 -0.01476863\n",
      "  -0.01312488 -0.00928066]]\n",
      "0.0663821\n",
      "f1 so far: 0.32\n",
      "[ 0.18148656  0.16088147  0.16825493  0.17059448  0.16902225  0.14976026]\n",
      "[[ 0.00107245  0.01080257 -0.00301487  0.0028819   0.01640484 -0.00601576\n",
      "  -0.01481375 -0.00078585 -0.00492087 -0.01281054 -0.00807726  0.00812521\n",
      "   0.00354304 -0.00547829 -0.01606509  0.00273105 -0.0121289   0.00787012\n",
      "  -0.02199175 -0.00462516  0.00207735  0.00917241 -0.0003233  -0.00658984\n",
      "  -0.01293303  0.01238347 -0.00693974 -0.01655545 -0.00559402 -0.01011485\n",
      "  -0.01400738 -0.00565313]]\n",
      "0.0560267\n",
      "f1 so far: 0.48\n"
     ]
    }
   ],
   "source": [
    "(lr_i,wd_i) = (2,0.001)\n",
    "temp_solver_path = save_protos_path+'solver_proto_lr'+str(lr_i)+'_wd'+str(wd_i)+'_birds.prototxt'\n",
    "net_fwrds = {}\n",
    "net_fwrds['fc7'] = np.zeros((niter, batch_nsize, num_classes)) #(10000, 2, 40, 32) \n",
    "net_bkwrds = {}\n",
    "net_bkwrds['fc7'] = np.zeros(niter)\n",
    "it = 0\n",
    "\n",
    "solver = cf.SGDSolver(temp_solver_path)\n",
    "solver.net.set_input_arrays(set_single_sample(num_sampl)[0], set_single_sample(num_sampl)[1])\n",
    "solver.test_nets[0].set_input_arrays(data4D_test,data4DL_test)\n",
    "#print(np.sum(solver.net.inputs))\n",
    "#net_fwrds['fc7'][it,batch_nsize-1] = solver.net.forward()['prob'].flatten()\n",
    "#print(net_fwrds['fc7'][it,batch_nsize-1])\n",
    "#np.sum(solver.net.blobs['data'].data[...])\n",
    "#print(solver.net.params[])\n",
    "#print(solver.net.backward(diffs=['fc7'])['fc7'])\n",
    "#solver.net.inputs\n",
    "#print(solver.net.forward()['prob'].flatten())\n",
    "\n",
    "net_fwrds['fc7'][it,batch_nsize-1] = solver.net.forward()['prob'].flatten()\n",
    "print(net_fwrds['fc7'][it,batch_nsize-1])\n",
    "print(solver.net.backward(diffs=['fc7'])['fc7'])\n",
    "print(np.linalg.norm(solver.net.backward(diffs=['fc7'])['fc7']))\n",
    "solver.step(1)\n",
    "pred_labels_test_birds = []\n",
    "test_net = solver.test_nets[0] \n",
    "output = test_net.forward()\n",
    "for i in range(300):\n",
    "    pred_labels_test_birds.append(test_net.blobs['prob'].data[i].flatten().argsort()[-1:-2:-1][0])\n",
    "cr_f1 = classification_report(yTestLfc7_labels, pred_labels_test_birds).split()\n",
    "print 'f1 so far: ' + str(cr_f1[-2])\n",
    "\n",
    "solver.net.set_input_arrays(set_single_sample(90)[0], set_single_sample(90)[1])\n",
    "print(net_fwrds['fc7'][it,batch_nsize-1])\n",
    "print(solver.net.backward(diffs=['fc7'])['fc7'])\n",
    "print(np.linalg.norm(solver.net.backward(diffs=['fc7'])['fc7']))\n",
    "solver.step(1)\n",
    "pred_labels_test_birds = []\n",
    "output = test_net.forward()\n",
    "for i in range(300):\n",
    "    pred_labels_test_birds.append(test_net.blobs['prob'].data[i].flatten().argsort()[-1:-2:-1][0])\n",
    "cr_f1 = classification_report(yTestLfc7_labels, pred_labels_test_birds).split()\n",
    "print 'f1 so far: ' + str(cr_f1[-2])\n",
    "\n",
    "\n",
    "\n",
    "solver.net.set_input_arrays(set_single_sample(50)[0], set_single_sample(50)[1])\n",
    "print(net_fwrds['fc7'][it,batch_nsize-1])\n",
    "print(solver.net.backward(diffs=['fc7'])['fc7'])\n",
    "print(np.linalg.norm(solver.net.backward(diffs=['fc7'])['fc7']))\n",
    "solver.step(1)\n",
    "pred_labels_test_birds = []\n",
    "test_net = solver.test_nets[0] \n",
    "output = test_net.forward()\n",
    "for i in range(300):\n",
    "    pred_labels_test_birds.append(test_net.blobs['prob'].data[i].flatten().argsort()[-1:-2:-1][0])\n",
    "cr_f1 = classification_report(yTestLfc7_labels, pred_labels_test_birds).split()\n",
    "print 'f1 so far: ' + str(cr_f1[-2])\n",
    "\n",
    "\n",
    "\n",
    "solver.net.set_input_arrays(set_single_sample(78)[0], set_single_sample(78)[1])\n",
    "print(net_fwrds['fc7'][it,batch_nsize-1])\n",
    "print(solver.net.backward(diffs=['fc7'])['fc7'])\n",
    "print(np.linalg.norm(solver.net.backward(diffs=['fc7'])['fc7']))\n",
    "solver.step(1)\n",
    "pred_labels_test_birds = []\n",
    "test_net = solver.test_nets[0] \n",
    "output = test_net.forward()\n",
    "for i in range(300):\n",
    "    pred_labels_test_birds.append(test_net.blobs['prob'].data[i].flatten().argsort()[-1:-2:-1][0])\n",
    "cr_f1 = classification_report(yTestLfc7_labels, pred_labels_test_birds).split()\n",
    "print 'f1 so far: ' + str(cr_f1[-2])\n",
    "\n",
    "\n",
    "#print(solver.net.forward()['prob'].flatten())\n",
    "#print(solver.net.forward()['prob'].flatten())\n",
    "#for layer in solver.net.layers:\n",
    "#    print layer\n",
    "#    for blob in layer.blobs:\n",
    "#        print blob\n",
    "        #blob.data[...] -= blob.diff\n",
    "#        print(blob.data[...].shape)\n"
   ]
  },
  {
   "cell_type": "code",
   "execution_count": 488,
   "metadata": {
    "collapsed": false
   },
   "outputs": [
    {
     "name": "stdout",
     "output_type": "stream",
     "text": [
      "[ 0.15922825  0.17658813  0.14932318  0.16345574  0.18470168  0.166703  ]\n",
      "[[[[ -2.06137891e-04  -1.42721867e-04   2.50571553e-04 ...,\n",
      "     -2.80772338e-06   2.92665762e-04   3.92636226e-04]]]]\n"
     ]
    }
   ],
   "source": [
    "net_fwrds['fc7'][it,batch_nsize-1] = solver.net.forward()['prob'].flatten()\n",
    "print(net_fwrds['fc7'][it,batch_nsize-1])\n",
    "\n",
    "print(solver.net.backward(diffs=['data'])['data'])"
   ]
  },
  {
   "cell_type": "code",
   "execution_count": 559,
   "metadata": {
    "collapsed": true
   },
   "outputs": [],
   "source": [
    "net_fwrds['fc7'][it,batch_nsize-1] = solver.net.forward()['prob'].flatten()"
   ]
  },
  {
   "cell_type": "code",
   "execution_count": 561,
   "metadata": {
    "collapsed": false
   },
   "outputs": [
    {
     "name": "stdout",
     "output_type": "stream",
     "text": [
      "computing performance for solver: /home/jsotaloram/active_learning/exp_birds/protos/solver_proto_lr2_wd0.001_birds.prototxt\n",
      "f1 so far: 0.94\n",
      "[  1.76105452e+00   1.33183932e+00   2.16452694e+00 ...,   1.52041810e-03\n",
      "   4.51558977e-02   1.13820620e-01]\n",
      "[0, 0, 0, 0, 0, 0, 0, 4, 0, 0, 0, 0, 0, 0, 0, 0, 0, 0, 0, 0, 0, 0, 0, 0, 0, 0, 0, 0, 0, 0]\n",
      "[0, 0, 0, 0, 0, 0, 0, 0, 0, 0, 0, 0, 0, 0, 0, 0, 0, 0, 0, 0, 0, 0, 0, 0, 0, 0, 0, 0, 0, 0]\n"
     ]
    }
   ],
   "source": [
    "cur_sumple = random.randint(1,11) \n",
    "save_protos_path = '/home/jsotaloram/active_learning/exp_birds/protos/'\n",
    "samples_used = []\n",
    "# All params save and updts based on http://caffe.berkeleyvision.org/tutorial/forward_backward.html\n",
    "for (lr_i,wd_i) in [(2,0.001)]:# hyper_params_combs[0:50]:\n",
    "    temp_solver_path = save_protos_path+'solver_proto_lr'+str(lr_i)+'_wd'+str(wd_i)+'_birds.prototxt'\n",
    "    print 'computing performance for solver: ' + temp_solver_path\n",
    "    solver = cf.SGDSolver(temp_solver_path)\n",
    "    train_loss = np.zeros(niter)\n",
    "    test_loss = np.zeros(niter)\n",
    "    scratch_train_loss = np.zeros(niter)\n",
    "\n",
    "    #solver.net.set_input_arrays(data4D, data4DL)\n",
    "    solver.test_nets[0].set_input_arrays(data4D_test,data4DL_test)\n",
    "\n",
    "#It seems that labels should be of dimension (n, 1, 1, 1) for memory layer as well.\n",
    "\n",
    "    for it in range(niter):\n",
    "        #Accumulating the gradients and probs\n",
    "        cur_sumple = random.randint(0,119)\n",
    "        samples_used.append(cur_sumple)\n",
    "        solver.net.set_input_arrays(set_single_sample(cur_sumple)[0], set_single_sample(cur_sumple)[1])\n",
    "  \n",
    "        solver.net.blobs\n",
    "        net_fwrds['fc7'][it,batch_nsize-1] = solver.net.forward()['prob'].flatten()\n",
    "        net_bkwrds['fc7'][it] = np.linalg.norm(solver.net.backward(diffs=['fc7'])['fc7']) \n",
    "        solver.step(1)  # SGD by Caffe\n",
    "        #scratch_solver.step(1)                                                                                                                            \n",
    "        # store the train loss                                                                                                                             \n",
    "        train_loss[it] = solver.net.blobs['loss'].data\n",
    "        #scratch_train_loss[it] = scratch_solver.net.blobs['loss'].data                                                                                    \n",
    "        test_loss[it] = solver.test_nets[0].blobs['loss'].data\n",
    "\n",
    "        #if it % 10 == 0:\n",
    "            #print 'iter %d, Training_Birds: hidden_%d_MLP_loss=%f' % (it,num_hidden_neurons, train_loss[it])\n",
    "    #print 'done Training!'\n",
    "\n",
    "\n",
    "    #reporting classification meassures of the small net:\n",
    "    test_net = solver.test_nets[0] # more than one test net is supported\n",
    "\n",
    "    test_net.set_input_arrays(data4D_test, data4DL_test)\n",
    "\n",
    "    pred_labels_test_birds = []\n",
    "\n",
    "    output = test_net.forward()\n",
    "\n",
    "    for i in range(300):\n",
    "        pred_labels_test_birds.append(test_net.blobs['prob'].data[i].flatten().argsort()[-1:-2:-1][0])\n",
    "\n",
    "#CMSvmLfc7 = confusion_matrix(yTestLfc6_labels, pred_labels_test_birds, labels=birdsLabels)\n",
    "#plt.figure(figsize=(8, 8))\n",
    "#plot_confusion_matrix(CMSvmLfc7, labels=birdsLabels)\n",
    "\n",
    "    #print(classification_report(yTestLfc6_labels, pred_labels_test_birds))\n",
    "    cr_f1 = classification_report(yTestLfc7_labels, pred_labels_test_birds).split()\n",
    "    print 'f1 so far: ' + str(cr_f1[-2])\n",
    "\n",
    "\n",
    "#print solver.net.blobs['label'].data[29]\n",
    "#output = solver.net.forward()\n",
    "#print data4DL_test[29]\n",
    "#output['prob'][29]\n",
    "print train_loss\n",
    "l_T = [yTestLfc7_labels[i] for i in full_idx_range_test]\n",
    "print pred_labels_test_birds[0:30]\n",
    "print l_T[0:30]"
   ]
  },
  {
   "cell_type": "code",
   "execution_count": 575,
   "metadata": {
    "collapsed": false
   },
   "outputs": [
    {
     "data": {
      "text/plain": [
       "0.0036826192"
      ]
     },
     "execution_count": 575,
     "metadata": {},
     "output_type": "execute_result"
    }
   ],
   "source": [
    "test_net.forward()['prob'].flatten()\n",
    "set_single_sample(cur_sumple)\n",
    "test_net.forward()['prob'].flatten()[2]*test_net.forward()['prob'].flatten()[2]"
   ]
  },
  {
   "cell_type": "code",
   "execution_count": 597,
   "metadata": {
    "collapsed": false
   },
   "outputs": [
    {
     "name": "stdout",
     "output_type": "stream",
     "text": [
      "=====================\n",
      "[(78, 0.0019550457966561671), (59, 0.0019550458545731231), (59, 0.0019550458545731231), (59, 0.0019550458545731231), (59, 0.0019550458545731231), (59, 0.0019550458545731231), (33, 0.0019550458784663716), (33, 0.0019550458784663716), (33, 0.0019550458784663716), (33, 0.0019550458784663716), (86, 0.0019550458823188455), (119, 0.0019550458888915045), (24, 0.0019550458904529222), (24, 0.0019550458904529222), (24, 0.0019550458904529222), (24, 0.0019550458904529222), (54, 0.0019550459067059264), (77, 0.001955045910563058), (77, 0.001955045910563058), (77, 0.001955045910563058), (77, 0.001955045910563058), (77, 0.001955045910563058), (1, 0.001955045919658005), (82, 0.0019550459224078054), (82, 0.0019550459224078054), (82, 0.0019550459224078054), (82, 0.0019550459224078054), (82, 0.0019550459224078054), (75, 0.0019550459260244679), (75, 0.0019550459260244679), (75, 0.0019550459260244679), (93, 0.0019550459407067233), (89, 0.0019550459447269519), (89, 0.0019550459447269519), (89, 0.0019550459447269519), (64, 0.0019550459450594637), (64, 0.0019550459450594637), (83, 0.0019550459561701317), (98, 0.00195504598344165), (98, 0.00195504598344165), (98, 0.00195504598344165), (43, 0.0019550459836014111), (34, 0.0019550459880935955), (34, 0.0019550459880935955), (7, 0.0019550459908369011), (7, 0.0019550459908369011), (7, 0.0019550459908369011), (84, 0.001955045992607013), (44, 0.0019550459945976775), (44, 0.0019550459945976775), (65, 0.0019550460056905195), (25, 0.0019550460059317293), (25, 0.0019550460059317293), (25, 0.0019550460059317293), (25, 0.0019550460059317293), (32, 0.0019550460120937039), (32, 0.0019550460120937039), (87, 0.0019550460124762026), (11, 0.0019550460154285076), (11, 0.0019550460154285076), (11, 0.0019550460154285076), (85, 0.0019550460244408541), (85, 0.0019550460244408541), (110, 0.0019550460298436434), (55, 0.0019550460410850956), (55, 0.0019550460410850956), (55, 0.0019550460410850956), (109, 0.0019550460416439819), (102, 0.001955046042209696), (35, 0.0019550460430175498), (105, 0.0019550460437649519), (105, 0.0019550460437649519), (105, 0.0019550460437649519), (22, 0.0019550460449619528), (22, 0.0019550460449619528), (22, 0.0019550460449619528), (68, 0.0019550460506039258), (115, 0.0019550460540056491), (115, 0.0019550460540056491), (115, 0.0019550460540056491), (36, 0.0019550460643039305), (36, 0.0019550460643039305), (61, 0.001955046064523458), (61, 0.001955046064523458), (2, 0.0019550460683151333), (2, 0.0019550460683151333), (48, 0.0019550460694791605), (48, 0.0019550460694791605), (48, 0.0019550460694791605), (48, 0.0019550460694791605), (5, 0.0019550460769276294), (5, 0.0019550460769276294), (4, 0.0019550460772421729), (90, 0.0019550460849890872), (90, 0.0019550460849890872), (38, 0.0019550460920679247), (79, 0.0019550460974748773), (79, 0.0019550460974748773), (18, 0.0019550461010805487), (18, 0.0019550461010805487), (18, 0.0019550461010805487), (88, 0.0019550461088291456), (88, 0.0019550461088291456), (60, 0.0019550461095828586), (60, 0.0019550461095828586), (60, 0.0019550461095828586), (118, 0.001955046112058767), (94, 0.0019550461182689105), (94, 0.0019550461182689105), (94, 0.0019550461182689105), (94, 0.0019550461182689105), (20, 0.001955046120698363), (20, 0.001955046120698363), (0, 0.0019550461239088435), (21, 0.0019550461242943129), (21, 0.0019550461242943129), (100, 0.0019550461327995095), (100, 0.0019550461327995095), (111, 0.0019550461333359692), (111, 0.0019550461333359692), (111, 0.0019550461333359692), (41, 0.0019550461352225096), (49, 0.0019550461363113669), (49, 0.0019550461363113669), (108, 0.0019550461397557228), (57, 0.0019550461398474273), (114, 0.0019550461494972637), (114, 0.0019550461494972637), (114, 0.0019550461494972637), (39, 0.0019550461504604932), (50, 0.0019550461560271515), (50, 0.0019550461560271515), (23, 0.001955046158248647), (23, 0.001955046158248647), (14, 0.0019550461681507869), (58, 0.0019550461743165215), (58, 0.0019550461743165215), (58, 0.0019550461743165215), (30, 0.0019550461757951304), (81, 0.0019550461767892102), (81, 0.0019550461767892102), (81, 0.0019550461767892102), (81, 0.0019550461767892102), (56, 0.0019550461783917061), (56, 0.0019550461783917061), (56, 0.0019550461783917061), (56, 0.0019550461783917061), (99, 0.0019550461801804029), (99, 0.0019550461801804029), (71, 0.0019550461939095518), (71, 0.0019550461939095518), (71, 0.0019550461939095518), (9, 0.0019550462002166924), (91, 0.0019550462008552927), (91, 0.0019550462008552927), (91, 0.0019550462008552927), (76, 0.0019550462029584992), (107, 0.0019550462047277506), (107, 0.0019550462047277506), (42, 0.0019550462173896221), (52, 0.0019550462205870645), (52, 0.0019550462205870645), (52, 0.0019550462205870645), (52, 0.0019550462205870645), (29, 0.0019550462226289866), (15, 0.0019550462274082747), (15, 0.0019550462274082747), (17, 0.0019550462295531666), (95, 0.0019550462307704741), (6, 0.0019550462355901743), (37, 0.0019550462426190305), (47, 0.0019550462503150623), (47, 0.0019550462503150623), (26, 0.0019550462507172441), (26, 0.0019550462507172441), (92, 0.0019550462526360946), (92, 0.0019550462526360946), (63, 0.0019550462579900341), (63, 0.0019550462579900341), (70, 0.0019550462584447814), (70, 0.0019550462584447814), (113, 0.0019550462665165469), (112, 0.0019550462667723423), (97, 0.0019550462705497651), (97, 0.0019550462705497651), (97, 0.0019550462705497651), (73, 0.0019550462713228967), (73, 0.0019550462713228967), (73, 0.0019550462713228967), (45, 0.0019550462720587802), (45, 0.0019550462720587802), (116, 0.0019550462955493231), (116, 0.0019550462955493231), (116, 0.0019550462955493231), (62, 0.0019550463030100218), (62, 0.0019550463030100218), (16, 0.001955046305650244), (16, 0.001955046305650244), (72, 0.0019550463379841287), (12, 0.0019550463422658227)]\n",
      "======================\n",
      "[12, 72, 16, 16, 62, 62, 116, 116, 116, 45, 45, 73, 73, 73, 97, 97, 97, 112, 113]\n"
     ]
    }
   ],
   "source": [
    "#lets learn with a few GT samples first\n",
    "num_init_queries = 200\n",
    "num_active_queries = 200\n",
    "samples_used = []\n",
    "active_samples_used = []\n",
    "probs_sampls = []\n",
    "paramgrads_sampls = []\n",
    "expected_value_samples = []\n",
    "temp_solver_path = save_protos_path+'solver_protoTest_lr'+str(lr_i)+'_wd'+str(wd_i)+'_birds.prototxt'\n",
    "solver = cf.SGDSolver(temp_solver_path)\n",
    "train_loss = np.zeros(niter)\n",
    "test_loss = np.zeros(niter)\n",
    "\n",
    "#solver.net.set_input_arrays(data4D, data4DL)\n",
    "solver.test_nets[0].set_input_arrays(set_single_sample(10)[0], set_single_sample(10)[1])\n",
    "#print([(k, v.data.shape) for k, v in solver.test_nets[0].blobs.items()])\n",
    "\n",
    "#lets update the params:\n",
    "for it in range(num_init_queries):\n",
    "    cur_sumple = random.randint(0,119)\n",
    "    samples_used.append(cur_sumple)\n",
    "    solver.net.set_input_arrays(set_single_sample(cur_sumple)[0], set_single_sample(cur_sumple)[1])\n",
    "    #print(net_fwrds['fc7'][it,batch_nsize-1])\n",
    "    #print(solver.net.backward(diffs=['fc7'])['fc7'])\n",
    "    #print(np.linalg.norm(solver.net.backward(diffs=['fc7'])['fc7']))\n",
    "    solver.step(1)\n",
    "    pred_labels_test_birds = []\n",
    "    test_net = solver.test_nets[0] \n",
    "    output = test_net.forward()\n",
    "    #for i in range(300):\n",
    "    #    pred_labels_test_birds.append(test_net.blobs['prob'].data[i].flatten().argsort()[-1:-2:-1][0])\n",
    "    #cr_f1 = classification_report(yTestLfc7_labels, pred_labels_test_birds).split()\n",
    "    #print 'f1 so far: ' + str(cr_f1[-2])\n",
    "    \n",
    "#Now actively compute which samples should be used for further params updates\n",
    "for it in range(num_active_queries):\n",
    "    test_net = solver.test_nets[0] \n",
    "    cur_sumple = random.randint(0,119)\n",
    "    active_samples_used.append(cur_sumple)\n",
    "    sum_expected_vals_cur = 0\n",
    "    for lbl in range(6):\n",
    "        solver.test_nets[0].set_input_arrays(set_single_sample(cur_sumple)[0], np.array([[[[ lbl]]]], np.float32))\n",
    "        solver.net.set_input_arrays(set_single_sample(cur_sumple)[0], np.array([[[[ lbl]]]], np.float32)) #which lbl gives more info\n",
    "        probs_sampls.append(test_net.forward()['prob'].flatten())\n",
    "        sum_expected_vals_cur +=test_net.forward()['prob'].flatten()[lbl]*np.linalg.norm(solver.net.backward(diffs=['fc7'])['fc7'])\n",
    "        paramgrads_sampls.append(np.linalg.norm(solver.net.backward(diffs=['fc7'])['fc7']))\n",
    "    expected_value_samples.append(sum_expected_vals_cur)\n",
    "    \n",
    "    #print(net_fwrds['fc7'][it,batch_nsize-1])\n",
    "    #print(solver.net.backward(diffs=['fc7'])['fc7'])\n",
    "    #print(np.linalg.norm(solver.net.backward(diffs=['fc7'])['fc7']))\n",
    "    #solver.step(1)\n",
    "    #pred_labels_test_birds = []\n",
    "    #test_net = solver.test_nets[0] \n",
    "    #output = test_net.forward()\n",
    "    #for i in range(300):\n",
    "    #    pred_labels_test_birds.append(test_net.blobs['prob'].data[i].flatten().argsort()[-1:-2:-1][0])\n",
    "    #cr_f1 = classification_report(yTestLfc7_labels, pred_labels_test_birds).split()\n",
    "    #print 'f1 so far: ' + str(cr_f1[-2])\n",
    "\n",
    "print('=====================')\n",
    "actv_smpls_values = zip(active_samples_used, expected_value_samples)\n",
    "actv_smpls_values = sorted(actv_smpls_values, key=lambda x: x[1])\n",
    "active_samples_updt_params = [actv_smpls_values[-k][0] for k in range(1,20)]\n",
    "print(actv_smpls_values)\n",
    "print('======================')\n",
    "print(active_samples_updt_params)\n",
    "#Now compare the performance of training with the actively selected samples vs a random selection\n",
    "solver_active_learning = solver\n",
    "solver_random_selection = solver\n",
    "for it in range(len(active_samples_updt_params)):\n",
    "    cur_sumple = active_samples_updt_params[it]\n",
    "    solver_active_learning.net.set_input_arrays(set_single_sample(cur_sumple)[0], set_single_sample(cur_sumple)[1])\n",
    "    solver_active_learning.step(1)\n",
    "\n",
    "for it in range(len(active_samples_updt_params)):\n",
    "    cur_sumple = random.randint(0,119)\n",
    "    solver_random_selection.net.set_input_arrays(set_single_sample(cur_sumple)[0], set_single_sample(cur_sumple)[1])\n",
    "    solver_random_selection.step(1)\n",
    "\n",
    "pred_labels_test_birds_rs = []\n",
    "pred_labels_test_birds_al = []\n",
    "\n",
    "for test_sample in full_idx_range_test:\n",
    "    solver_active_learning.test_nets[0].set_input_arrays(set_singleTest_sample(test_sample)[0],set_singleTest_sample(test_sample)[1])\n",
    "    solver_random_selection.test_nets[0].set_input_arrays(set_singleTest_sample(test_sample)[0],set_singleTest_sample(test_sample)[1])\n",
    "    \n",
    "    outputRS = solver_random_selection.test_nets[0].forward()\n",
    "    outputAL = solver_active_learning.test_nets[0].forward()\n",
    "    pred_labels_test_birds_rs.append(solver_random_selection.test_nets[0].blobs['prob'].data[test_sample].flatten().argsort()[-1:-2:-1][0])\n",
    "    pred_labels_test_birds_al.append(solver_active_learning.test_nets[0].blobs['prob'].data[test_sample].flatten().argsort()[-1:-2:-1][0])\n",
    "    \n",
    "    "
   ]
  },
  {
   "cell_type": "code",
   "execution_count": 254,
   "metadata": {
    "collapsed": true
   },
   "outputs": [],
   "source": [
    "#Save the model: \n",
    "solver.net.save('/home/jsotaloram/active_learning/exp_birds/models/model_small_birds.caffemodel')"
   ]
  },
  {
   "cell_type": "code",
   "execution_count": 69,
   "metadata": {
    "collapsed": false
   },
   "outputs": [],
   "source": [
    "# Now finally the active learning algorithm: Expected Gradient Cost\n",
    "#1) Saving the gradients in each iteration\n"
   ]
  },
  {
   "cell_type": "code",
   "execution_count": 442,
   "metadata": {
    "collapsed": false
   },
   "outputs": [
    {
     "data": {
      "text/plain": [
       "array([[  9.32075345e-05,   9.34407294e-01,   1.04461545e-02,\n",
       "          6.37489650e-03,   4.39701974e-02,   4.70823282e-03]])"
      ]
     },
     "execution_count": 442,
     "metadata": {},
     "output_type": "execute_result"
    }
   ],
   "source": [
    "#TODO: To know which data sample corresponds to which "
   ]
  },
  {
   "cell_type": "code",
   "execution_count": null,
   "metadata": {
    "collapsed": true
   },
   "outputs": [],
   "source": []
  }
 ],
 "metadata": {
  "kernelspec": {
   "display_name": "Python 2",
   "language": "python",
   "name": "python2"
  },
  "language_info": {
   "codemirror_mode": {
    "name": "ipython",
    "version": 2
   },
   "file_extension": ".py",
   "mimetype": "text/x-python",
   "name": "python",
   "nbconvert_exporter": "python",
   "pygments_lexer": "ipython2",
   "version": "2.7.10"
  }
 },
 "nbformat": 4,
 "nbformat_minor": 0
}
